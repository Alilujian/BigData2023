{
 "cells": [
  {
   "cell_type": "code",
   "execution_count": 1,
   "metadata": {},
   "outputs": [],
   "source": [
    "# Import useful libararies used for data management\n",
    "\n",
    "import numpy as np\n",
    "import pandas as pd\n",
    "\n",
    "# load dataset 'titanic_cleaned.csv', using 'PassengerId' as index column\n",
    "\n",
    "data = pd.read_csv('titanic_cleaned.csv', index_col='PassengerId')\n",
    "\n",
    "# define attributes and target variable\n",
    "\n",
    "features = ['Pclass','Age','SibSp','Parch','Fare','Sex_male','Embarked_Q','Embarked_S']\n",
    "target = ['Survived']\n",
    "\n",
    "# assign values for independent variables and target variable\n",
    "\n",
    "X = data [features]\n",
    "y = data [target]"
   ]
  },
  {
   "cell_type": "code",
   "execution_count": 2,
   "metadata": {},
   "outputs": [],
   "source": [
    "# import train_test split\n",
    "from sklearn.model_selection import train_test_split\n",
    "\n",
    "# split train data into train and test, 60% in training and 40% in testing\n",
    "X_train, X_test, y_train, y_test = train_test_split(X, y, test_size=0.4, random_state = 0)"
   ]
  },
  {
   "cell_type": "code",
   "execution_count": 3,
   "metadata": {},
   "outputs": [
    {
     "data": {
      "text/plain": [
       "DecisionTreeClassifier(class_weight=None, criterion='gini', max_depth=4,\n",
       "                       max_features=None, max_leaf_nodes=None,\n",
       "                       min_impurity_decrease=0.0, min_impurity_split=None,\n",
       "                       min_samples_leaf=1, min_samples_split=5,\n",
       "                       min_weight_fraction_leaf=0.0, presort=False,\n",
       "                       random_state=0, splitter='best')"
      ]
     },
     "execution_count": 3,
     "metadata": {},
     "output_type": "execute_result"
    }
   ],
   "source": [
    "from sklearn.model_selection import GridSearchCV\n",
    "parameters={'min_samples_split' : range(5,50,5),'max_depth': range(1,20,1)}\n",
    "\n",
    "from sklearn.tree import DecisionTreeClassifier\n",
    "clf_tree = DecisionTreeClassifier(random_state=0)\n",
    "clf = GridSearchCV(clf_tree,parameters, cv=5)\n",
    "clf.fit(X_train, y_train)\n",
    "clf.best_estimator_"
   ]
  },
  {
   "cell_type": "code",
   "execution_count": 4,
   "metadata": {},
   "outputs": [
    {
     "data": {
      "text/plain": [
       "DecisionTreeClassifier(class_weight=None, criterion='gini', max_depth=4,\n",
       "                       max_features=None, max_leaf_nodes=None,\n",
       "                       min_impurity_decrease=0.0, min_impurity_split=None,\n",
       "                       min_samples_leaf=1, min_samples_split=5,\n",
       "                       min_weight_fraction_leaf=0.0, presort=False,\n",
       "                       random_state=0, splitter='best')"
      ]
     },
     "execution_count": 4,
     "metadata": {},
     "output_type": "execute_result"
    }
   ],
   "source": [
    "model = clf.best_estimator_\n",
    "model.fit(X_train, y_train)"
   ]
  },
  {
   "cell_type": "code",
   "execution_count": 5,
   "metadata": {},
   "outputs": [
    {
     "data": {
      "text/plain": [
       "DecisionTreeClassifier(class_weight=None, criterion='gini', max_depth=4,\n",
       "                       max_features=None, max_leaf_nodes=None,\n",
       "                       min_impurity_decrease=0.0, min_impurity_split=None,\n",
       "                       min_samples_leaf=1, min_samples_split=5,\n",
       "                       min_weight_fraction_leaf=0.0, presort=False,\n",
       "                       random_state=0, splitter='best')"
      ]
     },
     "execution_count": 5,
     "metadata": {},
     "output_type": "execute_result"
    }
   ],
   "source": [
    "# train model using training dataset\n",
    "model.fit(X_train, y_train)"
   ]
  },
  {
   "cell_type": "code",
   "execution_count": 6,
   "metadata": {},
   "outputs": [
    {
     "data": {
      "text/plain": [
       "array([0, 0, 0, 1, 1, 0, 1, 1, 0, 1, 0, 1, 0, 1, 1, 1, 0, 0, 0, 1, 0, 1,\n",
       "       0, 0, 1, 1, 0, 1, 1, 0, 0, 1, 0, 0, 0, 0, 0, 0, 0, 0, 0, 0, 0, 0,\n",
       "       1, 0, 0, 1, 0, 0, 0, 0, 1, 0, 0, 0, 0, 0, 0, 0, 0, 1, 1, 0, 1, 0,\n",
       "       1, 0, 0, 1, 1, 0, 0, 0, 0, 1, 0, 0, 0, 0, 0, 0, 1, 0, 0, 1, 1, 0,\n",
       "       1, 0, 0, 0, 1, 1, 0, 0, 1, 0, 0, 0, 0, 0, 0, 0, 1, 0, 1, 0, 0, 1,\n",
       "       0, 1, 0, 1, 0, 1, 1, 1, 0, 1, 0, 0, 0, 0, 0, 0, 0, 0, 0, 0, 1, 0,\n",
       "       0, 1, 0, 0, 0, 0, 0, 0, 0, 1, 0, 1, 1, 1, 0, 1, 1, 0, 0, 0, 0, 0,\n",
       "       1, 0, 0, 0, 1, 1, 0, 0, 1, 0, 0, 0, 0, 0, 0, 0, 0, 1, 0, 0, 1, 0,\n",
       "       1, 0, 0, 1, 0, 0, 0, 0, 0, 0, 1, 0, 0, 1, 1, 0, 1, 1, 0, 0, 0, 1,\n",
       "       0, 0, 0, 1, 0, 1, 0, 0, 0, 0, 1, 0, 0, 0, 0, 1, 0, 0, 0, 1, 0, 1,\n",
       "       0, 1, 1, 0, 1, 0, 0, 1, 0, 0, 0, 1, 1, 1, 0, 0, 1, 1, 1, 0, 0, 1,\n",
       "       0, 0, 1, 0, 1, 0, 0, 1, 0, 0, 0, 0, 0, 1, 1, 0, 0, 0, 0, 0, 0, 0,\n",
       "       0, 0, 1, 0, 0, 1, 0, 0, 1, 0, 0, 0, 0, 0, 1, 1, 0, 1, 0, 1, 0, 0,\n",
       "       0, 0, 0, 0, 0, 0, 1, 1, 1, 0, 0, 0, 0, 0, 1, 0, 0, 1, 0, 1, 0, 0,\n",
       "       1, 0, 0, 0, 0, 0, 0, 0, 0, 0, 0, 0, 0, 0, 1, 1, 0, 0, 0, 0, 0, 0,\n",
       "       1, 0, 0, 0, 0, 0, 0, 0, 1, 0, 0, 0, 0, 0, 0, 0, 1, 0, 0, 0, 1, 1,\n",
       "       0, 0, 1, 0, 1], dtype=int64)"
      ]
     },
     "execution_count": 6,
     "metadata": {},
     "output_type": "execute_result"
    }
   ],
   "source": [
    "# test model (output binary label)\n",
    "pred_val = model.predict(X_test)\n",
    "pred_val"
   ]
  },
  {
   "cell_type": "code",
   "execution_count": 7,
   "metadata": {},
   "outputs": [
    {
     "data": {
      "text/plain": [
       "array([[0.86597938, 0.13402062],\n",
       "       [0.86597938, 0.13402062],\n",
       "       [1.        , 0.        ],\n",
       "       [0.03529412, 0.96470588],\n",
       "       [0.32142857, 0.67857143],\n",
       "       [0.66666667, 0.33333333],\n",
       "       [0.03529412, 0.96470588],\n",
       "       [0.03529412, 0.96470588],\n",
       "       [0.66666667, 0.33333333],\n",
       "       [0.32142857, 0.67857143],\n",
       "       [0.86597938, 0.13402062],\n",
       "       [0.19047619, 0.80952381],\n",
       "       [0.86597938, 0.13402062],\n",
       "       [0.03529412, 0.96470588],\n",
       "       [0.03529412, 0.96470588],\n",
       "       [0.32142857, 0.67857143],\n",
       "       [0.86597938, 0.13402062],\n",
       "       [0.86597938, 0.13402062],\n",
       "       [0.95384615, 0.04615385],\n",
       "       [0.        , 1.        ],\n",
       "       [0.86597938, 0.13402062],\n",
       "       [0.03529412, 0.96470588],\n",
       "       [0.86597938, 0.13402062],\n",
       "       [0.66666667, 0.33333333],\n",
       "       [0.32142857, 0.67857143],\n",
       "       [0.03529412, 0.96470588],\n",
       "       [0.86597938, 0.13402062],\n",
       "       [0.32142857, 0.67857143],\n",
       "       [0.03529412, 0.96470588],\n",
       "       [0.5       , 0.5       ],\n",
       "       [0.95384615, 0.04615385],\n",
       "       [0.19047619, 0.80952381],\n",
       "       [0.86597938, 0.13402062],\n",
       "       [0.66666667, 0.33333333],\n",
       "       [0.86597938, 0.13402062],\n",
       "       [0.66666667, 0.33333333],\n",
       "       [0.95384615, 0.04615385],\n",
       "       [0.86597938, 0.13402062],\n",
       "       [0.86597938, 0.13402062],\n",
       "       [0.95384615, 0.04615385],\n",
       "       [0.66666667, 0.33333333],\n",
       "       [0.86597938, 0.13402062],\n",
       "       [0.86597938, 0.13402062],\n",
       "       [0.86597938, 0.13402062],\n",
       "       [0.03529412, 0.96470588],\n",
       "       [0.86597938, 0.13402062],\n",
       "       [0.86597938, 0.13402062],\n",
       "       [0.03529412, 0.96470588],\n",
       "       [0.95384615, 0.04615385],\n",
       "       [0.66666667, 0.33333333],\n",
       "       [0.66666667, 0.33333333],\n",
       "       [0.66666667, 0.33333333],\n",
       "       [0.03529412, 0.96470588],\n",
       "       [0.86597938, 0.13402062],\n",
       "       [0.66666667, 0.33333333],\n",
       "       [0.86597938, 0.13402062],\n",
       "       [0.66666667, 0.33333333],\n",
       "       [0.92857143, 0.07142857],\n",
       "       [0.86597938, 0.13402062],\n",
       "       [0.86597938, 0.13402062],\n",
       "       [0.86597938, 0.13402062],\n",
       "       [0.32142857, 0.67857143],\n",
       "       [0.03529412, 0.96470588],\n",
       "       [0.66666667, 0.33333333],\n",
       "       [0.32142857, 0.67857143],\n",
       "       [0.86597938, 0.13402062],\n",
       "       [0.03529412, 0.96470588],\n",
       "       [0.86597938, 0.13402062],\n",
       "       [1.        , 0.        ],\n",
       "       [0.03529412, 0.96470588],\n",
       "       [0.03529412, 0.96470588],\n",
       "       [0.66666667, 0.33333333],\n",
       "       [0.66666667, 0.33333333],\n",
       "       [0.86597938, 0.13402062],\n",
       "       [0.86597938, 0.13402062],\n",
       "       [0.19047619, 0.80952381],\n",
       "       [0.66666667, 0.33333333],\n",
       "       [0.66666667, 0.33333333],\n",
       "       [0.95384615, 0.04615385],\n",
       "       [0.86597938, 0.13402062],\n",
       "       [0.86597938, 0.13402062],\n",
       "       [0.86597938, 0.13402062],\n",
       "       [0.03529412, 0.96470588],\n",
       "       [0.86597938, 0.13402062],\n",
       "       [0.95384615, 0.04615385],\n",
       "       [0.03529412, 0.96470588],\n",
       "       [0.03529412, 0.96470588],\n",
       "       [0.7       , 0.3       ],\n",
       "       [0.19047619, 0.80952381],\n",
       "       [0.66666667, 0.33333333],\n",
       "       [0.66666667, 0.33333333],\n",
       "       [0.86597938, 0.13402062],\n",
       "       [0.        , 1.        ],\n",
       "       [0.03529412, 0.96470588],\n",
       "       [0.92857143, 0.07142857],\n",
       "       [0.86597938, 0.13402062],\n",
       "       [0.19047619, 0.80952381],\n",
       "       [0.86597938, 0.13402062],\n",
       "       [0.66666667, 0.33333333],\n",
       "       [0.66666667, 0.33333333],\n",
       "       [0.86597938, 0.13402062],\n",
       "       [0.95384615, 0.04615385],\n",
       "       [0.86597938, 0.13402062],\n",
       "       [0.86597938, 0.13402062],\n",
       "       [0.32142857, 0.67857143],\n",
       "       [0.7       , 0.3       ],\n",
       "       [0.19047619, 0.80952381],\n",
       "       [0.92857143, 0.07142857],\n",
       "       [0.86597938, 0.13402062],\n",
       "       [0.32142857, 0.67857143],\n",
       "       [0.95384615, 0.04615385],\n",
       "       [0.03529412, 0.96470588],\n",
       "       [0.86597938, 0.13402062],\n",
       "       [0.32142857, 0.67857143],\n",
       "       [0.66666667, 0.33333333],\n",
       "       [0.19047619, 0.80952381],\n",
       "       [0.32142857, 0.67857143],\n",
       "       [0.03529412, 0.96470588],\n",
       "       [0.95384615, 0.04615385],\n",
       "       [0.03529412, 0.96470588],\n",
       "       [0.86597938, 0.13402062],\n",
       "       [0.86597938, 0.13402062],\n",
       "       [0.86597938, 0.13402062],\n",
       "       [0.66666667, 0.33333333],\n",
       "       [0.95384615, 0.04615385],\n",
       "       [0.66666667, 0.33333333],\n",
       "       [0.86597938, 0.13402062],\n",
       "       [0.86597938, 0.13402062],\n",
       "       [0.86597938, 0.13402062],\n",
       "       [0.95384615, 0.04615385],\n",
       "       [0.32142857, 0.67857143],\n",
       "       [0.86597938, 0.13402062],\n",
       "       [0.86597938, 0.13402062],\n",
       "       [0.32142857, 0.67857143],\n",
       "       [0.66666667, 0.33333333],\n",
       "       [0.86597938, 0.13402062],\n",
       "       [0.86597938, 0.13402062],\n",
       "       [0.7       , 0.3       ],\n",
       "       [0.95384615, 0.04615385],\n",
       "       [0.86597938, 0.13402062],\n",
       "       [0.86597938, 0.13402062],\n",
       "       [0.03529412, 0.96470588],\n",
       "       [0.86597938, 0.13402062],\n",
       "       [0.32142857, 0.67857143],\n",
       "       [0.03529412, 0.96470588],\n",
       "       [0.32142857, 0.67857143],\n",
       "       [0.86597938, 0.13402062],\n",
       "       [0.03529412, 0.96470588],\n",
       "       [0.03529412, 0.96470588],\n",
       "       [0.86597938, 0.13402062],\n",
       "       [0.66666667, 0.33333333],\n",
       "       [0.7       , 0.3       ],\n",
       "       [0.7       , 0.3       ],\n",
       "       [0.86597938, 0.13402062],\n",
       "       [0.19047619, 0.80952381],\n",
       "       [0.86597938, 0.13402062],\n",
       "       [0.7       , 0.3       ],\n",
       "       [0.95384615, 0.04615385],\n",
       "       [0.32142857, 0.67857143],\n",
       "       [0.32142857, 0.67857143],\n",
       "       [0.86597938, 0.13402062],\n",
       "       [0.86597938, 0.13402062],\n",
       "       [0.03529412, 0.96470588],\n",
       "       [0.7       , 0.3       ],\n",
       "       [0.86597938, 0.13402062],\n",
       "       [0.86597938, 0.13402062],\n",
       "       [0.95384615, 0.04615385],\n",
       "       [0.86597938, 0.13402062],\n",
       "       [0.86597938, 0.13402062],\n",
       "       [0.86597938, 0.13402062],\n",
       "       [0.95384615, 0.04615385],\n",
       "       [0.03529412, 0.96470588],\n",
       "       [0.86597938, 0.13402062],\n",
       "       [0.86597938, 0.13402062],\n",
       "       [0.32142857, 0.67857143],\n",
       "       [0.86597938, 0.13402062],\n",
       "       [0.03529412, 0.96470588],\n",
       "       [0.86597938, 0.13402062],\n",
       "       [0.86597938, 0.13402062],\n",
       "       [0.32142857, 0.67857143],\n",
       "       [0.86597938, 0.13402062],\n",
       "       [0.86597938, 0.13402062],\n",
       "       [0.86597938, 0.13402062],\n",
       "       [0.86597938, 0.13402062],\n",
       "       [0.66666667, 0.33333333],\n",
       "       [0.86597938, 0.13402062],\n",
       "       [0.32142857, 0.67857143],\n",
       "       [0.86597938, 0.13402062],\n",
       "       [0.86597938, 0.13402062],\n",
       "       [0.03529412, 0.96470588],\n",
       "       [0.32142857, 0.67857143],\n",
       "       [0.66666667, 0.33333333],\n",
       "       [0.32142857, 0.67857143],\n",
       "       [0.32142857, 0.67857143],\n",
       "       [0.86597938, 0.13402062],\n",
       "       [0.66666667, 0.33333333],\n",
       "       [0.86597938, 0.13402062],\n",
       "       [0.32142857, 0.67857143],\n",
       "       [0.66666667, 0.33333333],\n",
       "       [0.95384615, 0.04615385],\n",
       "       [0.86597938, 0.13402062],\n",
       "       [0.32142857, 0.67857143],\n",
       "       [0.95384615, 0.04615385],\n",
       "       [0.32142857, 0.67857143],\n",
       "       [0.86597938, 0.13402062],\n",
       "       [0.86597938, 0.13402062],\n",
       "       [0.7       , 0.3       ],\n",
       "       [0.86597938, 0.13402062],\n",
       "       [0.32142857, 0.67857143],\n",
       "       [0.95384615, 0.04615385],\n",
       "       [0.86597938, 0.13402062],\n",
       "       [0.66666667, 0.33333333],\n",
       "       [1.        , 0.        ],\n",
       "       [0.32142857, 0.67857143],\n",
       "       [0.95384615, 0.04615385],\n",
       "       [0.86597938, 0.13402062],\n",
       "       [0.86597938, 0.13402062],\n",
       "       [0.        , 1.        ],\n",
       "       [0.92857143, 0.07142857],\n",
       "       [0.03529412, 0.96470588],\n",
       "       [0.86597938, 0.13402062],\n",
       "       [0.03529412, 0.96470588],\n",
       "       [0.32142857, 0.67857143],\n",
       "       [0.86597938, 0.13402062],\n",
       "       [0.32142857, 0.67857143],\n",
       "       [0.86597938, 0.13402062],\n",
       "       [0.86597938, 0.13402062],\n",
       "       [0.19047619, 0.80952381],\n",
       "       [0.86597938, 0.13402062],\n",
       "       [0.86597938, 0.13402062],\n",
       "       [0.95384615, 0.04615385],\n",
       "       [0.03529412, 0.96470588],\n",
       "       [0.32142857, 0.67857143],\n",
       "       [0.32142857, 0.67857143],\n",
       "       [0.66666667, 0.33333333],\n",
       "       [0.86597938, 0.13402062],\n",
       "       [0.03529412, 0.96470588],\n",
       "       [0.03529412, 0.96470588],\n",
       "       [0.19047619, 0.80952381],\n",
       "       [0.86597938, 0.13402062],\n",
       "       [0.86597938, 0.13402062],\n",
       "       [0.03529412, 0.96470588],\n",
       "       [0.86597938, 0.13402062],\n",
       "       [0.95384615, 0.04615385],\n",
       "       [0.03529412, 0.96470588],\n",
       "       [0.86597938, 0.13402062],\n",
       "       [0.32142857, 0.67857143],\n",
       "       [0.86597938, 0.13402062],\n",
       "       [0.86597938, 0.13402062],\n",
       "       [0.32142857, 0.67857143],\n",
       "       [0.86597938, 0.13402062],\n",
       "       [0.86597938, 0.13402062],\n",
       "       [0.66666667, 0.33333333],\n",
       "       [0.86597938, 0.13402062],\n",
       "       [0.92857143, 0.07142857],\n",
       "       [0.32142857, 0.67857143],\n",
       "       [0.32142857, 0.67857143],\n",
       "       [0.95384615, 0.04615385],\n",
       "       [1.        , 0.        ],\n",
       "       [0.95384615, 0.04615385],\n",
       "       [0.86597938, 0.13402062],\n",
       "       [0.86597938, 0.13402062],\n",
       "       [0.95384615, 0.04615385],\n",
       "       [0.66666667, 0.33333333],\n",
       "       [0.86597938, 0.13402062],\n",
       "       [0.86597938, 0.13402062],\n",
       "       [0.32142857, 0.67857143],\n",
       "       [0.66666667, 0.33333333],\n",
       "       [0.66666667, 0.33333333],\n",
       "       [0.03529412, 0.96470588],\n",
       "       [1.        , 0.        ],\n",
       "       [0.66666667, 0.33333333],\n",
       "       [0.32142857, 0.67857143],\n",
       "       [0.86597938, 0.13402062],\n",
       "       [0.66666667, 0.33333333],\n",
       "       [0.86597938, 0.13402062],\n",
       "       [0.86597938, 0.13402062],\n",
       "       [0.86597938, 0.13402062],\n",
       "       [0.32142857, 0.67857143],\n",
       "       [0.32142857, 0.67857143],\n",
       "       [0.86597938, 0.13402062],\n",
       "       [0.32142857, 0.67857143],\n",
       "       [0.66666667, 0.33333333],\n",
       "       [0.03529412, 0.96470588],\n",
       "       [0.95384615, 0.04615385],\n",
       "       [0.86597938, 0.13402062],\n",
       "       [0.86597938, 0.13402062],\n",
       "       [0.92857143, 0.07142857],\n",
       "       [0.95384615, 0.04615385],\n",
       "       [0.66666667, 0.33333333],\n",
       "       [0.86597938, 0.13402062],\n",
       "       [0.95384615, 0.04615385],\n",
       "       [0.32142857, 0.67857143],\n",
       "       [0.03529412, 0.96470588],\n",
       "       [0.19047619, 0.80952381],\n",
       "       [0.86597938, 0.13402062],\n",
       "       [0.95384615, 0.04615385],\n",
       "       [0.66666667, 0.33333333],\n",
       "       [0.66666667, 0.33333333],\n",
       "       [0.95384615, 0.04615385],\n",
       "       [0.03529412, 0.96470588],\n",
       "       [0.86597938, 0.13402062],\n",
       "       [0.86597938, 0.13402062],\n",
       "       [0.        , 1.        ],\n",
       "       [0.66666667, 0.33333333],\n",
       "       [0.32142857, 0.67857143],\n",
       "       [0.66666667, 0.33333333],\n",
       "       [0.5       , 0.5       ],\n",
       "       [0.19047619, 0.80952381],\n",
       "       [0.86597938, 0.13402062],\n",
       "       [0.95384615, 0.04615385],\n",
       "       [0.92857143, 0.07142857],\n",
       "       [0.92857143, 0.07142857],\n",
       "       [0.86597938, 0.13402062],\n",
       "       [0.86597938, 0.13402062],\n",
       "       [0.66666667, 0.33333333],\n",
       "       [0.66666667, 0.33333333],\n",
       "       [0.86597938, 0.13402062],\n",
       "       [0.86597938, 0.13402062],\n",
       "       [0.86597938, 0.13402062],\n",
       "       [0.86597938, 0.13402062],\n",
       "       [0.92857143, 0.07142857],\n",
       "       [0.03529412, 0.96470588],\n",
       "       [0.19047619, 0.80952381],\n",
       "       [0.66666667, 0.33333333],\n",
       "       [0.86597938, 0.13402062],\n",
       "       [0.66666667, 0.33333333],\n",
       "       [0.95384615, 0.04615385],\n",
       "       [0.86597938, 0.13402062],\n",
       "       [0.86597938, 0.13402062],\n",
       "       [0.19047619, 0.80952381],\n",
       "       [0.95384615, 0.04615385],\n",
       "       [0.86597938, 0.13402062],\n",
       "       [0.86597938, 0.13402062],\n",
       "       [0.95384615, 0.04615385],\n",
       "       [0.95384615, 0.04615385],\n",
       "       [0.86597938, 0.13402062],\n",
       "       [0.66666667, 0.33333333],\n",
       "       [0.03529412, 0.96470588],\n",
       "       [0.95384615, 0.04615385],\n",
       "       [0.86597938, 0.13402062],\n",
       "       [0.66666667, 0.33333333],\n",
       "       [0.86597938, 0.13402062],\n",
       "       [0.86597938, 0.13402062],\n",
       "       [0.66666667, 0.33333333],\n",
       "       [0.66666667, 0.33333333],\n",
       "       [0.19047619, 0.80952381],\n",
       "       [0.86597938, 0.13402062],\n",
       "       [0.86597938, 0.13402062],\n",
       "       [0.66666667, 0.33333333],\n",
       "       [0.03529412, 0.96470588],\n",
       "       [0.19047619, 0.80952381],\n",
       "       [0.95384615, 0.04615385],\n",
       "       [0.95384615, 0.04615385],\n",
       "       [0.19047619, 0.80952381],\n",
       "       [0.95384615, 0.04615385],\n",
       "       [0.03529412, 0.96470588]])"
      ]
     },
     "execution_count": 7,
     "metadata": {},
     "output_type": "execute_result"
    }
   ],
   "source": [
    "# test model (output probability estimate)\n",
    "# https://scikit-learn.org/stable/modules/generated/sklearn.tree.DecisionTreeClassifier.html#sklearn.tree.DecisionTreeClassifier.predict_proba\n",
    "pred_prob = model.predict_proba(X_test)\n",
    "\n",
    "# show the probability of belonging to class 0 and class 1\n",
    "pred_prob"
   ]
  },
  {
   "cell_type": "code",
   "execution_count": 8,
   "metadata": {},
   "outputs": [
    {
     "data": {
      "text/plain": [
       "array([0, 1], dtype=int64)"
      ]
     },
     "execution_count": 8,
     "metadata": {},
     "output_type": "execute_result"
    }
   ],
   "source": [
    "# check the order of classes\n",
    "model.classes_"
   ]
  },
  {
   "cell_type": "code",
   "execution_count": 9,
   "metadata": {},
   "outputs": [
    {
     "data": {
      "text/plain": [
       "array([0.13402062, 0.13402062, 0.        , 0.96470588, 0.67857143,\n",
       "       0.33333333, 0.96470588, 0.96470588, 0.33333333, 0.67857143,\n",
       "       0.13402062, 0.80952381, 0.13402062, 0.96470588, 0.96470588,\n",
       "       0.67857143, 0.13402062, 0.13402062, 0.04615385, 1.        ,\n",
       "       0.13402062, 0.96470588, 0.13402062, 0.33333333, 0.67857143,\n",
       "       0.96470588, 0.13402062, 0.67857143, 0.96470588, 0.5       ,\n",
       "       0.04615385, 0.80952381, 0.13402062, 0.33333333, 0.13402062,\n",
       "       0.33333333, 0.04615385, 0.13402062, 0.13402062, 0.04615385,\n",
       "       0.33333333, 0.13402062, 0.13402062, 0.13402062, 0.96470588,\n",
       "       0.13402062, 0.13402062, 0.96470588, 0.04615385, 0.33333333,\n",
       "       0.33333333, 0.33333333, 0.96470588, 0.13402062, 0.33333333,\n",
       "       0.13402062, 0.33333333, 0.07142857, 0.13402062, 0.13402062,\n",
       "       0.13402062, 0.67857143, 0.96470588, 0.33333333, 0.67857143,\n",
       "       0.13402062, 0.96470588, 0.13402062, 0.        , 0.96470588,\n",
       "       0.96470588, 0.33333333, 0.33333333, 0.13402062, 0.13402062,\n",
       "       0.80952381, 0.33333333, 0.33333333, 0.04615385, 0.13402062,\n",
       "       0.13402062, 0.13402062, 0.96470588, 0.13402062, 0.04615385,\n",
       "       0.96470588, 0.96470588, 0.3       , 0.80952381, 0.33333333,\n",
       "       0.33333333, 0.13402062, 1.        , 0.96470588, 0.07142857,\n",
       "       0.13402062, 0.80952381, 0.13402062, 0.33333333, 0.33333333,\n",
       "       0.13402062, 0.04615385, 0.13402062, 0.13402062, 0.67857143,\n",
       "       0.3       , 0.80952381, 0.07142857, 0.13402062, 0.67857143,\n",
       "       0.04615385, 0.96470588, 0.13402062, 0.67857143, 0.33333333,\n",
       "       0.80952381, 0.67857143, 0.96470588, 0.04615385, 0.96470588,\n",
       "       0.13402062, 0.13402062, 0.13402062, 0.33333333, 0.04615385,\n",
       "       0.33333333, 0.13402062, 0.13402062, 0.13402062, 0.04615385,\n",
       "       0.67857143, 0.13402062, 0.13402062, 0.67857143, 0.33333333,\n",
       "       0.13402062, 0.13402062, 0.3       , 0.04615385, 0.13402062,\n",
       "       0.13402062, 0.96470588, 0.13402062, 0.67857143, 0.96470588,\n",
       "       0.67857143, 0.13402062, 0.96470588, 0.96470588, 0.13402062,\n",
       "       0.33333333, 0.3       , 0.3       , 0.13402062, 0.80952381,\n",
       "       0.13402062, 0.3       , 0.04615385, 0.67857143, 0.67857143,\n",
       "       0.13402062, 0.13402062, 0.96470588, 0.3       , 0.13402062,\n",
       "       0.13402062, 0.04615385, 0.13402062, 0.13402062, 0.13402062,\n",
       "       0.04615385, 0.96470588, 0.13402062, 0.13402062, 0.67857143,\n",
       "       0.13402062, 0.96470588, 0.13402062, 0.13402062, 0.67857143,\n",
       "       0.13402062, 0.13402062, 0.13402062, 0.13402062, 0.33333333,\n",
       "       0.13402062, 0.67857143, 0.13402062, 0.13402062, 0.96470588,\n",
       "       0.67857143, 0.33333333, 0.67857143, 0.67857143, 0.13402062,\n",
       "       0.33333333, 0.13402062, 0.67857143, 0.33333333, 0.04615385,\n",
       "       0.13402062, 0.67857143, 0.04615385, 0.67857143, 0.13402062,\n",
       "       0.13402062, 0.3       , 0.13402062, 0.67857143, 0.04615385,\n",
       "       0.13402062, 0.33333333, 0.        , 0.67857143, 0.04615385,\n",
       "       0.13402062, 0.13402062, 1.        , 0.07142857, 0.96470588,\n",
       "       0.13402062, 0.96470588, 0.67857143, 0.13402062, 0.67857143,\n",
       "       0.13402062, 0.13402062, 0.80952381, 0.13402062, 0.13402062,\n",
       "       0.04615385, 0.96470588, 0.67857143, 0.67857143, 0.33333333,\n",
       "       0.13402062, 0.96470588, 0.96470588, 0.80952381, 0.13402062,\n",
       "       0.13402062, 0.96470588, 0.13402062, 0.04615385, 0.96470588,\n",
       "       0.13402062, 0.67857143, 0.13402062, 0.13402062, 0.67857143,\n",
       "       0.13402062, 0.13402062, 0.33333333, 0.13402062, 0.07142857,\n",
       "       0.67857143, 0.67857143, 0.04615385, 0.        , 0.04615385,\n",
       "       0.13402062, 0.13402062, 0.04615385, 0.33333333, 0.13402062,\n",
       "       0.13402062, 0.67857143, 0.33333333, 0.33333333, 0.96470588,\n",
       "       0.        , 0.33333333, 0.67857143, 0.13402062, 0.33333333,\n",
       "       0.13402062, 0.13402062, 0.13402062, 0.67857143, 0.67857143,\n",
       "       0.13402062, 0.67857143, 0.33333333, 0.96470588, 0.04615385,\n",
       "       0.13402062, 0.13402062, 0.07142857, 0.04615385, 0.33333333,\n",
       "       0.13402062, 0.04615385, 0.67857143, 0.96470588, 0.80952381,\n",
       "       0.13402062, 0.04615385, 0.33333333, 0.33333333, 0.04615385,\n",
       "       0.96470588, 0.13402062, 0.13402062, 1.        , 0.33333333,\n",
       "       0.67857143, 0.33333333, 0.5       , 0.80952381, 0.13402062,\n",
       "       0.04615385, 0.07142857, 0.07142857, 0.13402062, 0.13402062,\n",
       "       0.33333333, 0.33333333, 0.13402062, 0.13402062, 0.13402062,\n",
       "       0.13402062, 0.07142857, 0.96470588, 0.80952381, 0.33333333,\n",
       "       0.13402062, 0.33333333, 0.04615385, 0.13402062, 0.13402062,\n",
       "       0.80952381, 0.04615385, 0.13402062, 0.13402062, 0.04615385,\n",
       "       0.04615385, 0.13402062, 0.33333333, 0.96470588, 0.04615385,\n",
       "       0.13402062, 0.33333333, 0.13402062, 0.13402062, 0.33333333,\n",
       "       0.33333333, 0.80952381, 0.13402062, 0.13402062, 0.33333333,\n",
       "       0.96470588, 0.80952381, 0.04615385, 0.04615385, 0.80952381,\n",
       "       0.04615385, 0.96470588])"
      ]
     },
     "execution_count": 9,
     "metadata": {},
     "output_type": "execute_result"
    }
   ],
   "source": [
    "# display the probability estimate for class 1\n",
    "\n",
    "pred_prob[:,1]"
   ]
  },
  {
   "cell_type": "code",
   "execution_count": 10,
   "metadata": {},
   "outputs": [],
   "source": [
    "# import libararies for evaluation measures\n",
    "from sklearn.metrics import accuracy_score\n",
    "from sklearn.metrics import classification_report\n",
    "from sklearn.metrics import confusion_matrix\n",
    "from sklearn.metrics import roc_curve\n",
    "from sklearn.metrics import auc"
   ]
  },
  {
   "cell_type": "code",
   "execution_count": 11,
   "metadata": {},
   "outputs": [
    {
     "name": "stdout",
     "output_type": "stream",
     "text": [
      "Accuracy: 0.8123249299719888\n"
     ]
    }
   ],
   "source": [
    "# print the accurary rate\n",
    "# https://scikit-learn.org/stable/modules/generated/sklearn.metrics.accuracy_score.html\n",
    "print(\"Accuracy:\",accuracy_score(y_test, pred_val, normalize=True, sample_weight=None))"
   ]
  },
  {
   "cell_type": "code",
   "execution_count": 12,
   "metadata": {},
   "outputs": [
    {
     "name": "stdout",
     "output_type": "stream",
     "text": [
      "Confusion Matrix: [[201  20]\n",
      " [ 47  89]]\n"
     ]
    }
   ],
   "source": [
    "# print the confusion matrix\n",
    "# https://scikit-learn.org/stable/modules/generated/sklearn.metrics.confusion_matrix.html\n",
    "print(\"Confusion Matrix:\", confusion_matrix(y_test, pred_val))"
   ]
  },
  {
   "cell_type": "code",
   "execution_count": 13,
   "metadata": {},
   "outputs": [
    {
     "name": "stdout",
     "output_type": "stream",
     "text": [
      "Classification Report:               precision    recall  f1-score   support\n",
      "\n",
      "           0       0.81      0.91      0.86       221\n",
      "           1       0.82      0.65      0.73       136\n",
      "\n",
      "    accuracy                           0.81       357\n",
      "   macro avg       0.81      0.78      0.79       357\n",
      "weighted avg       0.81      0.81      0.81       357\n",
      "\n"
     ]
    }
   ],
   "source": [
    "# print the classification report with precision, recall\n",
    "# https://scikit-learn.org/stable/modules/generated/sklearn.metrics.classification_report.html\n",
    "print(\"Classification Report:\",classification_report(y_test, pred_val))"
   ]
  },
  {
   "cell_type": "code",
   "execution_count": 14,
   "metadata": {},
   "outputs": [],
   "source": [
    "# y_test is the true label, pred_prob[:,1] measures the predicted probability of belonging to class 1 (which is defined as positive class)\n",
    "# https://scikit-learn.org/stable/modules/generated/sklearn.metrics.roc_curve.html\n",
    "fpr, tpr, thresholds = roc_curve(y_test, pred_prob[:,1], pos_label=1)"
   ]
  },
  {
   "cell_type": "code",
   "execution_count": 15,
   "metadata": {},
   "outputs": [
    {
     "data": {
      "text/plain": [
       "array([0.        , 0.        , 0.00452489, 0.00452489, 0.09049774,\n",
       "       0.09954751, 0.24886878, 0.26696833, 0.78733032, 0.82352941,\n",
       "       0.98642534, 1.        ])"
      ]
     },
     "execution_count": 15,
     "metadata": {},
     "output_type": "execute_result"
    }
   ],
   "source": [
    "fpr"
   ]
  },
  {
   "cell_type": "code",
   "execution_count": 16,
   "metadata": {},
   "outputs": [
    {
     "data": {
      "text/plain": [
       "array([0.        , 0.02941176, 0.35294118, 0.47794118, 0.65441176,\n",
       "       0.65441176, 0.79411765, 0.82352941, 0.95588235, 0.96323529,\n",
       "       0.98529412, 1.        ])"
      ]
     },
     "execution_count": 16,
     "metadata": {},
     "output_type": "execute_result"
    }
   ],
   "source": [
    "tpr"
   ]
  },
  {
   "cell_type": "code",
   "execution_count": 17,
   "metadata": {},
   "outputs": [
    {
     "data": {
      "text/plain": [
       "array([2.        , 1.        , 0.96470588, 0.80952381, 0.67857143,\n",
       "       0.5       , 0.33333333, 0.3       , 0.13402062, 0.07142857,\n",
       "       0.04615385, 0.        ])"
      ]
     },
     "execution_count": 17,
     "metadata": {},
     "output_type": "execute_result"
    }
   ],
   "source": [
    "thresholds"
   ]
  },
  {
   "cell_type": "code",
   "execution_count": 18,
   "metadata": {},
   "outputs": [
    {
     "data": {
      "text/plain": [
       "0.848133484162896"
      ]
     },
     "execution_count": 18,
     "metadata": {},
     "output_type": "execute_result"
    }
   ],
   "source": [
    "# Aread under ROC curve\n",
    "roc_auc=auc(fpr,tpr)\n",
    "roc_auc"
   ]
  },
  {
   "cell_type": "code",
   "execution_count": 19,
   "metadata": {},
   "outputs": [
    {
     "data": {
      "image/png": "[encoded data removed]",
      "text/plain": [
       "<Figure size 432x288 with 1 Axes>"
      ]
     },
     "metadata": {
      "needs_background": "light"
     },
     "output_type": "display_data"
    }
   ],
   "source": [
    "import matplotlib.pyplot as plt\n",
    "%matplotlib inline\n",
    "\n",
    "plt.figure()\n",
    "lw = 2\n",
    "plt.plot(fpr, tpr, marker='o',color='darkorange',\n",
    "         lw=lw, label='ROC curve (area = %0.2f)' % roc_auc)\n",
    "plt.plot([0, 1], [0, 1], color='navy', lw=lw, linestyle='--')\n",
    "plt.xlim([-0.05, 1.0])\n",
    "plt.ylim([0.0, 1.05])\n",
    "plt.xlabel('False Positive Rate')\n",
    "plt.ylabel('True Positive Rate')\n",
    "plt.title('Receiver operating characteristic')\n",
    "plt.legend(loc=\"lower right\")\n",
    "plt.show()"
   ]
  },
  {
   "cell_type": "code",
   "execution_count": null,
   "metadata": {},
   "outputs": [],
   "source": []
  }
 ],
 "metadata": {
  "kernelspec": {
   "display_name": "Python 3",
   "language": "python",
   "name": "python3"
  },
  "language_info": {
   "codemirror_mode": {
    "name": "ipython",
    "version": 3
   },
   "file_extension": ".py",
   "mimetype": "text/x-python",
   "name": "python",
   "nbconvert_exporter": "python",
   "pygments_lexer": "ipython3",
   "version": "3.7.4"
  }
 },
 "nbformat": 4,
 "nbformat_minor": 2
}
