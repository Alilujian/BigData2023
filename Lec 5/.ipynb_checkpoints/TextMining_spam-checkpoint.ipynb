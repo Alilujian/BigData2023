{
 "cells": [
  {
   "cell_type": "markdown",
   "metadata": {},
   "source": [
    "### Spam Detection using Text Mining and Naive Bayes Classifier\n",
    "\n",
    "- Each SMS message can be a spam or a ham (legitimate)."
   ]
  },
  {
   "cell_type": "code",
   "execution_count": 1,
   "metadata": {},
   "outputs": [],
   "source": [
    "# Import useful libararies used for data management\n",
    "import pandas as pd\n",
    "import numpy as np\n",
    "\n",
    "# load dataset 'Spam.csv', using 'python' as engine\n",
    "# https://pandas.pydata.org/pandas-docs/stable/reference/api/pandas.read_csv.html\n",
    "dataset = pd.read_csv(\"Spam.csv\", encoding = \"ISO-8859-1\")"
   ]
  },
  {
   "cell_type": "code",
   "execution_count": 2,
   "metadata": {},
   "outputs": [
    {
     "data": {
      "text/html": [
       "<div>\n",
       "<style scoped>\n",
       "    .dataframe tbody tr th:only-of-type {\n",
       "        vertical-align: middle;\n",
       "    }\n",
       "\n",
       "    .dataframe tbody tr th {\n",
       "        vertical-align: top;\n",
       "    }\n",
       "\n",
       "    .dataframe thead th {\n",
       "        text-align: right;\n",
       "    }\n",
       "</style>\n",
       "<table border=\"1\" class=\"dataframe\">\n",
       "  <thead>\n",
       "    <tr style=\"text-align: right;\">\n",
       "      <th></th>\n",
       "      <th>Text</th>\n",
       "      <th>Class</th>\n",
       "    </tr>\n",
       "  </thead>\n",
       "  <tbody>\n",
       "    <tr>\n",
       "      <th>0</th>\n",
       "      <td>Hi...I have to use R to find out the 90% confidence-interval for the sensitivityand specificity of the following diagnostic test:A particular diagnostic test for multiple sclerosis was conducted on 20 MSpatients and 20 healthy subjects, 6 MS patients were classified as healthyand 8 healthy subjects were classified as suffering from the MS.Furthermore, I need to find the number of MS patients required for asensitivity of 1%...Is there a simple R-command which can do that for me?I am completel...</td>\n",
       "      <td>ham</td>\n",
       "    </tr>\n",
       "    <tr>\n",
       "      <th>1</th>\n",
       "      <td>Francesco Poli wrote:) On Sun, 15 Apr 2007 21:24:00 +0200 Arnoud Engelfriet wrote:) ) The sign [X] (hereafter \"the Mark\") is a trademark, rights to which) ) are held by [Y], representing [Z] if applicable (hereafter \"the) ) Mark Holder\").) ) Wait, the \"Mark Holder\" would be [Y], I think.I thought you used Y and Z for cases where Y is licensing Z'strademark (if Y is Z's subsidiary or authorized licensee for example).Then the trademark holder is Z but Y has certain rights to the mark.The \"if a...</td>\n",
       "      <td>ham</td>\n",
       "    </tr>\n",
       "    <tr>\n",
       "      <th>2</th>\n",
       "      <td>Stephen Thorne wrote:) What I was thinking was possibly using the web browser and a local) light weight http server of some kind (SimpleHTTPServer or something)) that would serve ajaxy data to the web browser and integrate with) things like the journal. This way even if the Web activity with its) MozEmbed component dies via OOM, the backend store can still be) written (and the backend store can take SIGDANGER signals and cache) that data to disk).This is exactly what's being worked on.</td>\n",
       "      <td>ham</td>\n",
       "    </tr>\n",
       "    <tr>\n",
       "      <th>3</th>\n",
       "      <td>Hi,I have this site that auto generates an index.html file every 15 minutes(it's a blog aggregator).I need that every time the file is generated, all the contents betweenthe lines(h4 class=\"post-title\")(ahref=\"http://domain.com/2006/08/bourne-shell.html\")Bourne Shell(/a)(/h4)and (p)(a href=\"http://domain.com/2006/08/bourne-shell.html\")S??b, 14 Abr2007 12:31:07(/a)(/p)to be deleted (including these two ones).I've tried several ways and googled but i can't do the trick.Any help would be apprec...</td>\n",
       "      <td>ham</td>\n",
       "    </tr>\n",
       "    <tr>\n",
       "      <th>4</th>\n",
       "      <td>Author: metzeDate: 2007-04-16 08:20:13 +0000 (Mon, 16 Apr 2007)New Revision: 22249WebSVN: http://websvn.samba.org/cgi-bin/viewcvs.cgi?view=rev&amp;root=samba&amp;rev=22249Log:move tdb code to lib/tdb/ as in samba4metzeAdded: branches/SAMBA_3_0/source/lib/tdb/Removed: branches/SAMBA_3_0/source/tdb/Modified: branches/SAMBA_3_0/source/Makefile.in branches/SAMBA_3_0/source/configure.inChangeset:Modified: branches/SAMBA_3_0/source/Makefile.in===============================================================...</td>\n",
       "      <td>ham</td>\n",
       "    </tr>\n",
       "  </tbody>\n",
       "</table>\n",
       "</div>"
      ],
      "text/plain": [
       "                                                                                                                                                                                                                                                                                                                                                                                                                                                                                                                  Text  \\\n",
       "0  Hi...I have to use R to find out the 90% confidence-interval for the sensitivityand specificity of the following diagnostic test:A particular diagnostic test for multiple sclerosis was conducted on 20 MSpatients and 20 healthy subjects, 6 MS patients were classified as healthyand 8 healthy subjects were classified as suffering from the MS.Furthermore, I need to find the number of MS patients required for asensitivity of 1%...Is there a simple R-command which can do that for me?I am completel...   \n",
       "1  Francesco Poli wrote:) On Sun, 15 Apr 2007 21:24:00 +0200 Arnoud Engelfriet wrote:) ) The sign [X] (hereafter \"the Mark\") is a trademark, rights to which) ) are held by [Y], representing [Z] if applicable (hereafter \"the) ) Mark Holder\").) ) Wait, the \"Mark Holder\" would be [Y], I think.I thought you used Y and Z for cases where Y is licensing Z'strademark (if Y is Z's subsidiary or authorized licensee for example).Then the trademark holder is Z but Y has certain rights to the mark.The \"if a...   \n",
       "2           Stephen Thorne wrote:) What I was thinking was possibly using the web browser and a local) light weight http server of some kind (SimpleHTTPServer or something)) that would serve ajaxy data to the web browser and integrate with) things like the journal. This way even if the Web activity with its) MozEmbed component dies via OOM, the backend store can still be) written (and the backend store can take SIGDANGER signals and cache) that data to disk).This is exactly what's being worked on.   \n",
       "3  Hi,I have this site that auto generates an index.html file every 15 minutes(it's a blog aggregator).I need that every time the file is generated, all the contents betweenthe lines(h4 class=\"post-title\")(ahref=\"http://domain.com/2006/08/bourne-shell.html\")Bourne Shell(/a)(/h4)and (p)(a href=\"http://domain.com/2006/08/bourne-shell.html\")S??b, 14 Abr2007 12:31:07(/a)(/p)to be deleted (including these two ones).I've tried several ways and googled but i can't do the trick.Any help would be apprec...   \n",
       "4  Author: metzeDate: 2007-04-16 08:20:13 +0000 (Mon, 16 Apr 2007)New Revision: 22249WebSVN: http://websvn.samba.org/cgi-bin/viewcvs.cgi?view=rev&root=samba&rev=22249Log:move tdb code to lib/tdb/ as in samba4metzeAdded: branches/SAMBA_3_0/source/lib/tdb/Removed: branches/SAMBA_3_0/source/tdb/Modified: branches/SAMBA_3_0/source/Makefile.in branches/SAMBA_3_0/source/configure.inChangeset:Modified: branches/SAMBA_3_0/source/Makefile.in===============================================================...   \n",
       "\n",
       "  Class  \n",
       "0   ham  \n",
       "1   ham  \n",
       "2   ham  \n",
       "3   ham  \n",
       "4   ham  "
      ]
     },
     "execution_count": 2,
     "metadata": {},
     "output_type": "execute_result"
    }
   ],
   "source": [
    "#https://pandas.pydata.org/pandas-docs/stable/reference/api/pandas.set_option.html\n",
    "# set max_colwidth 500\n",
    "pd.set_option('display.max_colwidth', 500)  \n",
    "\n",
    "dataset.head()"
   ]
  },
  {
   "cell_type": "code",
   "execution_count": 3,
   "metadata": {},
   "outputs": [
    {
     "data": {
      "text/plain": [
       "ham     4864\n",
       "spam    3246\n",
       "Name: Class, dtype: int64"
      ]
     },
     "execution_count": 3,
     "metadata": {},
     "output_type": "execute_result"
    }
   ],
   "source": [
    "dataset['Class'].value_counts()"
   ]
  },
  {
   "cell_type": "code",
   "execution_count": 4,
   "metadata": {},
   "outputs": [],
   "source": [
    "# convert the 'label' column into a numeric variable; 'ham' as 0, 'spam' as 1\n",
    "# Alternatively, you can do one-hot-encoding, and drop the attribute Class_ham.\n",
    "dataset['Label'] = dataset['Class'].map({'ham':0, 'spam':1})"
   ]
  },
  {
   "cell_type": "code",
   "execution_count": 5,
   "metadata": {},
   "outputs": [
    {
     "data": {
      "text/html": [
       "<div>\n",
       "<style scoped>\n",
       "    .dataframe tbody tr th:only-of-type {\n",
       "        vertical-align: middle;\n",
       "    }\n",
       "\n",
       "    .dataframe tbody tr th {\n",
       "        vertical-align: top;\n",
       "    }\n",
       "\n",
       "    .dataframe thead th {\n",
       "        text-align: right;\n",
       "    }\n",
       "</style>\n",
       "<table border=\"1\" class=\"dataframe\">\n",
       "  <thead>\n",
       "    <tr style=\"text-align: right;\">\n",
       "      <th></th>\n",
       "      <th>Text</th>\n",
       "      <th>Class</th>\n",
       "      <th>Label</th>\n",
       "    </tr>\n",
       "  </thead>\n",
       "  <tbody>\n",
       "    <tr>\n",
       "      <th>0</th>\n",
       "      <td>Hi...I have to use R to find out the 90% confidence-interval for the sensitivityand specificity of the following diagnostic test:A particular diagnostic test for multiple sclerosis was conducted on 20 MSpatients and 20 healthy subjects, 6 MS patients were classified as healthyand 8 healthy subjects were classified as suffering from the MS.Furthermore, I need to find the number of MS patients required for asensitivity of 1%...Is there a simple R-command which can do that for me?I am completel...</td>\n",
       "      <td>ham</td>\n",
       "      <td>0</td>\n",
       "    </tr>\n",
       "    <tr>\n",
       "      <th>1</th>\n",
       "      <td>Francesco Poli wrote:) On Sun, 15 Apr 2007 21:24:00 +0200 Arnoud Engelfriet wrote:) ) The sign [X] (hereafter \"the Mark\") is a trademark, rights to which) ) are held by [Y], representing [Z] if applicable (hereafter \"the) ) Mark Holder\").) ) Wait, the \"Mark Holder\" would be [Y], I think.I thought you used Y and Z for cases where Y is licensing Z'strademark (if Y is Z's subsidiary or authorized licensee for example).Then the trademark holder is Z but Y has certain rights to the mark.The \"if a...</td>\n",
       "      <td>ham</td>\n",
       "      <td>0</td>\n",
       "    </tr>\n",
       "    <tr>\n",
       "      <th>2</th>\n",
       "      <td>Stephen Thorne wrote:) What I was thinking was possibly using the web browser and a local) light weight http server of some kind (SimpleHTTPServer or something)) that would serve ajaxy data to the web browser and integrate with) things like the journal. This way even if the Web activity with its) MozEmbed component dies via OOM, the backend store can still be) written (and the backend store can take SIGDANGER signals and cache) that data to disk).This is exactly what's being worked on.</td>\n",
       "      <td>ham</td>\n",
       "      <td>0</td>\n",
       "    </tr>\n",
       "    <tr>\n",
       "      <th>3</th>\n",
       "      <td>Hi,I have this site that auto generates an index.html file every 15 minutes(it's a blog aggregator).I need that every time the file is generated, all the contents betweenthe lines(h4 class=\"post-title\")(ahref=\"http://domain.com/2006/08/bourne-shell.html\")Bourne Shell(/a)(/h4)and (p)(a href=\"http://domain.com/2006/08/bourne-shell.html\")S??b, 14 Abr2007 12:31:07(/a)(/p)to be deleted (including these two ones).I've tried several ways and googled but i can't do the trick.Any help would be apprec...</td>\n",
       "      <td>ham</td>\n",
       "      <td>0</td>\n",
       "    </tr>\n",
       "    <tr>\n",
       "      <th>4</th>\n",
       "      <td>Author: metzeDate: 2007-04-16 08:20:13 +0000 (Mon, 16 Apr 2007)New Revision: 22249WebSVN: http://websvn.samba.org/cgi-bin/viewcvs.cgi?view=rev&amp;root=samba&amp;rev=22249Log:move tdb code to lib/tdb/ as in samba4metzeAdded: branches/SAMBA_3_0/source/lib/tdb/Removed: branches/SAMBA_3_0/source/tdb/Modified: branches/SAMBA_3_0/source/Makefile.in branches/SAMBA_3_0/source/configure.inChangeset:Modified: branches/SAMBA_3_0/source/Makefile.in===============================================================...</td>\n",
       "      <td>ham</td>\n",
       "      <td>0</td>\n",
       "    </tr>\n",
       "  </tbody>\n",
       "</table>\n",
       "</div>"
      ],
      "text/plain": [
       "                                                                                                                                                                                                                                                                                                                                                                                                                                                                                                                  Text  \\\n",
       "0  Hi...I have to use R to find out the 90% confidence-interval for the sensitivityand specificity of the following diagnostic test:A particular diagnostic test for multiple sclerosis was conducted on 20 MSpatients and 20 healthy subjects, 6 MS patients were classified as healthyand 8 healthy subjects were classified as suffering from the MS.Furthermore, I need to find the number of MS patients required for asensitivity of 1%...Is there a simple R-command which can do that for me?I am completel...   \n",
       "1  Francesco Poli wrote:) On Sun, 15 Apr 2007 21:24:00 +0200 Arnoud Engelfriet wrote:) ) The sign [X] (hereafter \"the Mark\") is a trademark, rights to which) ) are held by [Y], representing [Z] if applicable (hereafter \"the) ) Mark Holder\").) ) Wait, the \"Mark Holder\" would be [Y], I think.I thought you used Y and Z for cases where Y is licensing Z'strademark (if Y is Z's subsidiary or authorized licensee for example).Then the trademark holder is Z but Y has certain rights to the mark.The \"if a...   \n",
       "2           Stephen Thorne wrote:) What I was thinking was possibly using the web browser and a local) light weight http server of some kind (SimpleHTTPServer or something)) that would serve ajaxy data to the web browser and integrate with) things like the journal. This way even if the Web activity with its) MozEmbed component dies via OOM, the backend store can still be) written (and the backend store can take SIGDANGER signals and cache) that data to disk).This is exactly what's being worked on.   \n",
       "3  Hi,I have this site that auto generates an index.html file every 15 minutes(it's a blog aggregator).I need that every time the file is generated, all the contents betweenthe lines(h4 class=\"post-title\")(ahref=\"http://domain.com/2006/08/bourne-shell.html\")Bourne Shell(/a)(/h4)and (p)(a href=\"http://domain.com/2006/08/bourne-shell.html\")S??b, 14 Abr2007 12:31:07(/a)(/p)to be deleted (including these two ones).I've tried several ways and googled but i can't do the trick.Any help would be apprec...   \n",
       "4  Author: metzeDate: 2007-04-16 08:20:13 +0000 (Mon, 16 Apr 2007)New Revision: 22249WebSVN: http://websvn.samba.org/cgi-bin/viewcvs.cgi?view=rev&root=samba&rev=22249Log:move tdb code to lib/tdb/ as in samba4metzeAdded: branches/SAMBA_3_0/source/lib/tdb/Removed: branches/SAMBA_3_0/source/tdb/Modified: branches/SAMBA_3_0/source/Makefile.in branches/SAMBA_3_0/source/configure.inChangeset:Modified: branches/SAMBA_3_0/source/Makefile.in===============================================================...   \n",
       "\n",
       "  Class  Label  \n",
       "0   ham      0  \n",
       "1   ham      0  \n",
       "2   ham      0  \n",
       "3   ham      0  \n",
       "4   ham      0  "
      ]
     },
     "execution_count": 5,
     "metadata": {},
     "output_type": "execute_result"
    }
   ],
   "source": [
    "dataset.head()"
   ]
  },
  {
   "cell_type": "code",
   "execution_count": 6,
   "metadata": {},
   "outputs": [],
   "source": [
    "# Now let's define X and y \n",
    "\n",
    "X = dataset['Text']\n",
    "y = dataset['Label']"
   ]
  },
  {
   "cell_type": "code",
   "execution_count": 7,
   "metadata": {},
   "outputs": [
    {
     "data": {
      "text/plain": [
       "(8110,)"
      ]
     },
     "execution_count": 7,
     "metadata": {},
     "output_type": "execute_result"
    }
   ],
   "source": [
    "# show the dimension of the X\n",
    "#https://docs.scipy.org/doc/numpy/reference/generated/numpy.ndarray.shape.html\n",
    "X.shape"
   ]
  },
  {
   "cell_type": "code",
   "execution_count": 8,
   "metadata": {},
   "outputs": [],
   "source": [
    "# Now let's do train/test split on the X and y data (70% train, 30% test)\n",
    "\n",
    "from sklearn.model_selection import train_test_split\n",
    "X_train, X_test, y_train, y_test = train_test_split(X, y, test_size=0.3 , random_state=1)"
   ]
  },
  {
   "cell_type": "code",
   "execution_count": 9,
   "metadata": {},
   "outputs": [
    {
     "data": {
      "text/plain": [
       "(5677,)"
      ]
     },
     "execution_count": 9,
     "metadata": {},
     "output_type": "execute_result"
    }
   ],
   "source": [
    "# show the dimension of X_train\n",
    "# https://docs.scipy.org/doc/numpy/reference/generated/numpy.ndarray.shape.html\n",
    "X_train.shape"
   ]
  },
  {
   "cell_type": "code",
   "execution_count": 10,
   "metadata": {},
   "outputs": [
    {
     "data": {
      "text/plain": [
       "(2433,)"
      ]
     },
     "execution_count": 10,
     "metadata": {},
     "output_type": "execute_result"
    }
   ],
   "source": [
    "# show the dimension of X_test\n",
    "# https://docs.scipy.org/doc/numpy/reference/generated/numpy.ndarray.shape.html\n",
    "\n",
    "X_test.shape"
   ]
  },
  {
   "cell_type": "code",
   "execution_count": 11,
   "metadata": {},
   "outputs": [
    {
     "data": {
      "text/plain": [
       "0    3393\n",
       "1    2284\n",
       "Name: Label, dtype: int64"
      ]
     },
     "execution_count": 11,
     "metadata": {},
     "output_type": "execute_result"
    }
   ],
   "source": [
    "# show the number of 'ham' and 'spam' in the training set\n",
    "# https://pandas.pydata.org/pandas-docs/stable/reference/api/pandas.Series.value_counts.html\n",
    "y_train.value_counts()"
   ]
  },
  {
   "cell_type": "code",
   "execution_count": 12,
   "metadata": {},
   "outputs": [],
   "source": [
    "# Import the CountVectorizer\n",
    "from sklearn.feature_extraction.text import CountVectorizer\n",
    "\n",
    "# Now we are ready to vectorize the data\n",
    "# first, instantiate the vectorizer\n",
    "# https://scikit-learn.org/stable/modules/generated/sklearn.feature_extraction.text.CountVectorizer.html\n",
    "# When building the vocabulary ignore terms that have a document frequency strictly lower than the min_df (proportion), or higher than max_df\n",
    "vectorizer = CountVectorizer(encoding='utf-8',stop_words='english',min_df=0.02, max_df=0.5)"
   ]
  },
  {
   "cell_type": "markdown",
   "metadata": {},
   "source": [
    "#### TODO\n",
    "- Please try TfidfVectorizer later to see the model performance (https://scikit-learn.org/stable/modules/generated/sklearn.feature_extraction.text.TfidfVectorizer.html)\n",
    "- You need to use \"from sklearn.feature_extraction.text import TfidfVectorizer\" to import the TfidfVectorizer first"
   ]
  },
  {
   "cell_type": "code",
   "execution_count": 13,
   "metadata": {},
   "outputs": [],
   "source": [
    "# Learn the vocabulary dictionary and return term-document matrix.\n",
    "# https://scikit-learn.org/stable/modules/generated/sklearn.feature_extraction.text.CountVectorizer.html#sklearn.feature_extraction.text.CountVectorizer.fit_transform\n",
    "X_train_vec = vectorizer.fit_transform(X_train)"
   ]
  },
  {
   "cell_type": "code",
   "execution_count": 14,
   "metadata": {},
   "outputs": [
    {
     "data": {
      "text/plain": [
       "array(['00', '000', '0000', '00our', '00proposition', '00we', '01', '02',\n",
       "       '0200', '03', '04', '05', '06', '07', '08', '09', '0nline', '10',\n",
       "       '100', '11', '12', '128', '129', '13', '14', '149', '149ableton',\n",
       "       '15', '16', '17', '18', '185technologies', '19', '1imited', '1o',\n",
       "       '20', '2006', '2007', '21', '22', '23', '24', '2441', '2442',\n",
       "       '2480', '25', '26', '27', '28', '29', '2http', '30', '31', '319',\n",
       "       '32', '33', '34', '35', '36', '369', '37', '38', '39', '399', '40',\n",
       "       '40speedy', '41', '42', '44', '449', '45', '47', '48', '49',\n",
       "       '49adobe', '49http', '50', '500', '56', '59', '60', '69adobe',\n",
       "       '75', '79', '80', '819', '89', '899', '90', '95', '95you',\n",
       "       '95your', '99', '______________________________________________',\n",
       "       '______________________________________________r', 'able', 'ac',\n",
       "       'access', 'account', 'accurate', 'acrobat', 'action', 'actually',\n",
       "       'add', 'added', 'additional', 'address', 'adobe', 'advance',\n",
       "       'advancedsolution', 'advertisement', 'advisor', 'affiliates',\n",
       "       'alerttmxotrimax', 'allow', 'alternative', 'analyst', 'andrew',\n",
       "       'andshould', 'answer', 'applied', 'applying', 'apr', 'april',\n",
       "       'archive', 'arenegotiating', 'argument', 'ask', 'atches', 'author',\n",
       "       'autocad', 'autodesk', 'availability', 'available', 'away', 'bad',\n",
       "       'banker', 'base', 'based', 'begin', 'beginners', 'behalf',\n",
       "       'believe', 'benefit', 'best', 'better', 'big', 'bin', 'bit',\n",
       "       'borland', 'bounces', 'box', 'bpl', 'braille', 'branch',\n",
       "       'branches', 'broadband', 'broker', 'brokerdealer', 'bug', 'build',\n",
       "       'business', 'buy', 'ca', 'called', 'care', 'case', 'cash', 'cc',\n",
       "       'cchangeset', 'cd', 'cgi', 'ch', 'change', 'changes', 'check',\n",
       "       'cheers', 'choice', 'class', 'clear', 'click', 'client', 'close',\n",
       "       'code', 'column', 'com', 'come', 'comes', 'command', 'commands',\n",
       "       'comment', 'commented', 'comments', 'common', 'communication',\n",
       "       'company', 'complete', 'computer', 'confidential', 'config',\n",
       "       'considered', 'consult', 'contact', 'contain', 'contained',\n",
       "       'containsforward', 'content', 'control', 'copy', 'copyright',\n",
       "       'corel', 'correct', 'cost', 'course', 'create', 'created',\n",
       "       'creative', 'cs', 'cs2', 'current', 'currently', 'daily', 'data',\n",
       "       'date', 'day', 'days', 'deal', 'dear', 'debian', 'decrease',\n",
       "       'default', 'defined', 'deleted', 'deliver', 'details', 'did',\n",
       "       'didn', 'difference', 'different', 'directors', 'directory', 'dis',\n",
       "       'discounts', 'discreet', 'discrete', 'discussed', 'does', 'doesn',\n",
       "       'doing', 'domain', 'don', 'download', 'downloaded', 'drive',\n",
       "       'drugs', 'dvd', 'easy', 'editionregular', 'edu', 'effects',\n",
       "       'efficient', 'electronic', 'email', 'ement', 'employees',\n",
       "       'en1argment', 'encryptedhigh', 'end', 'enhan', 'enterprise',\n",
       "       'environment', 'error', 'errors', 'essential', 'ethz', 'event',\n",
       "       'exactly', 'example', 'experience', 'factor', 'fail', 'failed',\n",
       "       'false', 'far', 'fast', 'favorite', 'fax', 'fedex', 'feel', 'file',\n",
       "       'files', 'fine', 'fit', 'fix', 'fixed', 'follow', 'following',\n",
       "       'form', 'format', 'frame', 'free', 'fri', 'friday', 'function',\n",
       "       'functions', 'future', 'general', 'generic', 'getting', 'given',\n",
       "       'gives', 'global', 'gmail', 'gnu', 'going', 'good', 'got',\n",
       "       'grafix', 'great', 'grid', 'group', 'guaranteed', 'guess', 'guide',\n",
       "       'hard', 'hash', 'haven', 'having', 'header', 'health', 'hello',\n",
       "       'help', 'helpplease', 'helps', 'hes', 'hi', 'high', 'hk', 'home',\n",
       "       'hope', 'host', 'html', 'https', 'id', 'idea', 'illustrator',\n",
       "       'important', 'include', 'including', 'inclusive', 'independent',\n",
       "       'index', 'individual', 'info', 'information',\n",
       "       'informationbelieved', 'install', 'installed', 'instant',\n",
       "       'instantly', 'instead', 'int', 'intend', 'internet', 'introducing',\n",
       "       'investment', 'involve', 'isn', 'issue', 'items', 'john', 'just',\n",
       "       'key', 'kind', 'know', 'laptop', 'large', 'later', 'latest', 'law',\n",
       "       'learn', 'leave', 'legal', 'length', 'let', 'level', 'lib',\n",
       "       'library', 'license', 'licensed', 'life', 'like', 'limited',\n",
       "       'line', 'lines', 'link', 'linux', 'list', 'listhttps', 'listinfo',\n",
       "       'lists', 'listspeakup', 'little', 'live', 'll', 'local', 'log',\n",
       "       'long', 'longer', 'look', 'looking', 'looks', 'loop', 'lose',\n",
       "       'lot', 'lover', 'low', 'mac', 'machine', 'macromedia', 'mail',\n",
       "       'mailing', 'mailman', 'mailto', 'main', 'make', 'maker', 'makes',\n",
       "       'making', 'male', 'man', 'manner', 'manuals', 'manufacturers',\n",
       "       'market', 'material', 'math', 'matrix', 'matter', 'maybe',\n",
       "       'maybuy', 'mean', 'means', 'meds', 'member', 'memory', 'men',\n",
       "       'mentioned', 'message', 'messages', 'method', 'methods',\n",
       "       'microsoft', 'millions', 'minimal', 'missing', 'model', 'modified',\n",
       "       'module', 'moment', 'mon', 'monday', 'money', 'month', 'ms',\n",
       "       'names', 'nearfuture', 'need', 'needed', 'needs', 'net', 'network',\n",
       "       'new', 'newest', 'news', 'nice', 'nick', 'night',\n",
       "       'no_prescripti0n_needed', 'non', 'note', 'null', 'number',\n",
       "       'object', 'oem', 'offer', 'offering', 'offers', 'office',\n",
       "       'officers', 'ok', 'old', 'online', 'open', 'opinion', 'option',\n",
       "       'order', 'org', 'orgfor', 'orghttp', 'original', 'orprofit', 'otc',\n",
       "       'ounts', 'output', 'package', 'packages', 'packing', 'page',\n",
       "       'parrot', 'particular', 'parties', 'pat', 'patch', 'path', 'pay',\n",
       "       'people', 'perl', 'phone', 'photoshop', 'php', 'pi11', 'pl',\n",
       "       'place', 'plain', 'plot', 'pm', 'pnis', 'point', 'points',\n",
       "       'possible', 'post', 'posting', 'power', 'pr0', 'premiere',\n",
       "       'premium', 'prepared', 'pretty', 'price', 'prices', 'print', 'pro',\n",
       "       'probably', 'problem', 'problems', 'process', 'product',\n",
       "       'products', 'producttestpanel', 'professional',\n",
       "       'professionalmarket', 'profit', 'program', 'project', 'property',\n",
       "       'propose', 'provide', 'providers', 'public', 'purchase',\n",
       "       'purchasingor', 'quality', 'question', 'questions', 'quickerand',\n",
       "       'quite', 'rank', 'read', 'reading', 'ready', 'real', 'really',\n",
       "       'reason', 'receive', 'received', 'regards', 'release', 'reliable',\n",
       "       'remove', 'replace', 'reply', 'report', 'reproducible', 'request',\n",
       "       'required', 'research', 'reserved', 'response', 'result',\n",
       "       'results', 'return', 'rev', 'reviews', 'revision', 'revno', 'rice',\n",
       "       'right', 'rights', 'rise', 'risks', 'road', 'roof', 'root', 'run',\n",
       "       'running', 'rx', 'safe', 'safer', 'safest', 'said', 'samba',\n",
       "       'samba_3_0', 'samba_4_0', 'sat', 'save', 'say', 'says', 'script',\n",
       "       'search', 'second', 'section', 'sector', 'securities', 'seen',\n",
       "       'self', 'sell', 'selling', 'send', 'sent', 'server', 'service',\n",
       "       'set', 'share', 'shares', 'shipping', 'short', 'signed', 'similar',\n",
       "       'simple', 'simply', 'single', 'site', 'situation', 'size', 'small',\n",
       "       'software', 'solution', 'sorry', 'sort', 'source', 'south', 'sp2',\n",
       "       'special', 'specific', 'speed', 'speedy', 'standard', 'start',\n",
       "       'started', 'stat', 'state', 'statements', 'states', 'statistics',\n",
       "       'stats', 'status', 'step', 'stop', 'store', 'street', 'string',\n",
       "       'studio', 'stuff', 'sub', 'subject', 'suite', 'sun', 'support',\n",
       "       'sure', 'sym', 'symmetrical', 't0', 't1sales', 't2', 't3best',\n",
       "       't4', 't6', 'table', 'target', 'team', 'technologies', 'tell',\n",
       "       'term', 'terms', 'test', 'tests', 'text', 'thank', 'thanks',\n",
       "       'thay', 'theirsize', 'thing', 'things', 'think', 'thought',\n",
       "       'throw', 'thu', 'thursday', 'time', 'times', 'tmxo', 'today',\n",
       "       'tools', 'trackable', 'trade', 'transmission', 'tried', 'true',\n",
       "       'try', 'trying', 'tue', 'type', 'uk', 'ultimate', 'ultimateretail',\n",
       "       'uncertainties', 'understand', 'underwriter', 'unhappy', 'united',\n",
       "       'university', 'unless', 'unreal', 'unsubscribe', 'url', 'use',\n",
       "       'used', 'useful', 'user', 'users', 'uses', 'using', 'usr', 'utc',\n",
       "       'uwaterloo', 'uwo', 'value', 'values', 'variable', 'variables',\n",
       "       'various', 've', 'vector', 'version', 'video', 'view', 'viewcvs',\n",
       "       'viewed', 'visit', 'vista', 'voice', 'want', 'wanted', 'warning',\n",
       "       'watch', 'watching', 'way', 'web', 'website', 'websvn', 'wed',\n",
       "       'week', 'windows', 'wish', 'women', 'won', 'work', 'working',\n",
       "       'works', 'world', 'write', 'writes', 'wrong', 'wrote', 'www', 'x3',\n",
       "       'xp', 'yahoo', 'year', 'years', 'yes', 'youcould'], dtype=object)"
      ]
     },
     "execution_count": 14,
     "metadata": {},
     "output_type": "execute_result"
    }
   ],
   "source": [
    "# print the terms\n",
    "# https://scikit-learn.org/stable/modules/generated/sklearn.feature_extraction.text.CountVectorizer.html#sklearn.feature_extraction.text.CountVectorizer.get_feature_names\n",
    "vectorizer.get_feature_names_out()"
   ]
  },
  {
   "cell_type": "code",
   "execution_count": 15,
   "metadata": {},
   "outputs": [
    {
     "name": "stdout",
     "output_type": "stream",
     "text": [
      "  (0, 784)\t3\n",
      "  (0, 258)\t1\n",
      "  (0, 246)\t1\n",
      "  (0, 441)\t1\n",
      "  (0, 305)\t3\n",
      "  (0, 704)\t1\n",
      "  (0, 348)\t2\n",
      "  (0, 584)\t2\n",
      "  (0, 544)\t1\n",
      "  (0, 388)\t2\n",
      "  (0, 183)\t4\n",
      "  (0, 347)\t1\n",
      "  (0, 428)\t1\n",
      "  (0, 577)\t1\n",
      "  (0, 699)\t1\n",
      "  (0, 734)\t1\n",
      "  (0, 262)\t1\n",
      "  (0, 228)\t2\n",
      "  (0, 382)\t1\n",
      "  (0, 400)\t1\n",
      "  (0, 497)\t1\n",
      "  (1, 39)\t1\n",
      "  (1, 37)\t1\n",
      "  (1, 638)\t2\n",
      "  (1, 754)\t2\n",
      "  :\t:\n",
      "  (5676, 758)\t1\n",
      "  (5676, 447)\t1\n",
      "  (5676, 125)\t1\n",
      "  (5676, 167)\t1\n",
      "  (5676, 539)\t1\n",
      "  (5676, 110)\t1\n",
      "  (5676, 466)\t1\n",
      "  (5676, 575)\t1\n",
      "  (5676, 511)\t1\n",
      "  (5676, 112)\t1\n",
      "  (5676, 489)\t1\n",
      "  (5676, 239)\t1\n",
      "  (5676, 264)\t1\n",
      "  (5676, 440)\t1\n",
      "  (5676, 634)\t2\n",
      "  (5676, 245)\t1\n",
      "  (5676, 362)\t1\n",
      "  (5676, 626)\t1\n",
      "  (5676, 501)\t1\n",
      "  (5676, 275)\t1\n",
      "  (5676, 599)\t1\n",
      "  (5676, 229)\t1\n",
      "  (5676, 582)\t1\n",
      "  (5676, 747)\t1\n",
      "  (5676, 680)\t1\n"
     ]
    }
   ],
   "source": [
    "print(X_train_vec)"
   ]
  },
  {
   "cell_type": "code",
   "execution_count": 16,
   "metadata": {},
   "outputs": [
    {
     "name": "stdout",
     "output_type": "stream",
     "text": [
      "  (0, 23)\t1\n",
      "  (0, 36)\t1\n",
      "  (0, 37)\t1\n",
      "  (0, 51)\t1\n",
      "  (0, 70)\t1\n",
      "  (0, 71)\t2\n",
      "  (0, 89)\t3\n",
      "  (0, 93)\t2\n",
      "  (0, 122)\t1\n",
      "  (0, 161)\t1\n",
      "  (0, 172)\t6\n",
      "  (0, 176)\t1\n",
      "  (0, 179)\t1\n",
      "  (0, 183)\t2\n",
      "  (0, 191)\t2\n",
      "  (0, 204)\t2\n",
      "  (0, 227)\t1\n",
      "  (0, 251)\t1\n",
      "  (0, 252)\t1\n",
      "  (0, 274)\t6\n",
      "  (0, 286)\t1\n",
      "  (0, 290)\t2\n",
      "  (0, 301)\t1\n",
      "  (0, 323)\t6\n",
      "  (0, 331)\t6\n",
      "  :\t:\n",
      "  (2432, 27)\t1\n",
      "  (2432, 32)\t4\n",
      "  (2432, 35)\t1\n",
      "  (2432, 37)\t4\n",
      "  (2432, 48)\t1\n",
      "  (2432, 49)\t1\n",
      "  (2432, 51)\t1\n",
      "  (2432, 52)\t4\n",
      "  (2432, 54)\t3\n",
      "  (2432, 55)\t3\n",
      "  (2432, 56)\t1\n",
      "  (2432, 57)\t2\n",
      "  (2432, 60)\t1\n",
      "  (2432, 61)\t1\n",
      "  (2432, 122)\t2\n",
      "  (2432, 160)\t7\n",
      "  (2432, 338)\t2\n",
      "  (2432, 491)\t1\n",
      "  (2432, 497)\t1\n",
      "  (2432, 611)\t4\n",
      "  (2432, 612)\t2\n",
      "  (2432, 666)\t2\n",
      "  (2432, 721)\t1\n",
      "  (2432, 735)\t1\n",
      "  (2432, 771)\t1\n"
     ]
    }
   ],
   "source": [
    "# Now let's transform the test data without fitting (fit only on training)! \n",
    "# https://scikit-learn.org/stable/modules/generated/sklearn.feature_extraction.text.CountVectorizer.html#sklearn.feature_extraction.text.CountVectorizer.transform\n",
    "X_test_vec = vectorizer.transform(X_test)\n",
    "print(X_test_vec)"
   ]
  },
  {
   "cell_type": "code",
   "execution_count": 17,
   "metadata": {},
   "outputs": [
    {
     "data": {
      "text/plain": [
       "MultinomialNB()"
      ]
     },
     "execution_count": 17,
     "metadata": {},
     "output_type": "execute_result"
    }
   ],
   "source": [
    "#Import Multinomial Naive Bayes model from sklearn\n",
    "from sklearn.naive_bayes import MultinomialNB\n",
    "\n",
    "# Create a Multinomial Naive Bayes Classifier, which is frequently used in Tf-idf\n",
    "# https://scikit-learn.org/stable/modules/generated/sklearn.naive_bayes.MultinomialNB.html\n",
    "mnb = MultinomialNB()\n",
    "# train the model using training set \n",
    "mnb.fit(X_train_vec, y_train)"
   ]
  },
  {
   "cell_type": "code",
   "execution_count": 18,
   "metadata": {},
   "outputs": [
    {
     "data": {
      "text/html": [
       "<div>\n",
       "<style scoped>\n",
       "    .dataframe tbody tr th:only-of-type {\n",
       "        vertical-align: middle;\n",
       "    }\n",
       "\n",
       "    .dataframe tbody tr th {\n",
       "        vertical-align: top;\n",
       "    }\n",
       "\n",
       "    .dataframe thead th {\n",
       "        text-align: right;\n",
       "    }\n",
       "</style>\n",
       "<table border=\"1\" class=\"dataframe\">\n",
       "  <thead>\n",
       "    <tr style=\"text-align: right;\">\n",
       "      <th></th>\n",
       "      <th>Log Probability</th>\n",
       "    </tr>\n",
       "  </thead>\n",
       "  <tbody>\n",
       "    <tr>\n",
       "      <th>com</th>\n",
       "      <td>-3.702794</td>\n",
       "    </tr>\n",
       "    <tr>\n",
       "      <th>adobe</th>\n",
       "      <td>-4.342634</td>\n",
       "    </tr>\n",
       "    <tr>\n",
       "      <th>79</th>\n",
       "      <td>-4.403574</td>\n",
       "    </tr>\n",
       "    <tr>\n",
       "      <th>price</th>\n",
       "      <td>-4.556449</td>\n",
       "    </tr>\n",
       "    <tr>\n",
       "      <th>software</th>\n",
       "      <td>-4.811341</td>\n",
       "    </tr>\n",
       "    <tr>\n",
       "      <th>php</th>\n",
       "      <td>-4.833474</td>\n",
       "    </tr>\n",
       "    <tr>\n",
       "      <th>suite</th>\n",
       "      <td>-4.885449</td>\n",
       "    </tr>\n",
       "    <tr>\n",
       "      <th>time</th>\n",
       "      <td>-4.887933</td>\n",
       "    </tr>\n",
       "    <tr>\n",
       "      <th>microsoft</th>\n",
       "      <td>-4.909304</td>\n",
       "    </tr>\n",
       "    <tr>\n",
       "      <th>2007</th>\n",
       "      <td>-4.914400</td>\n",
       "    </tr>\n",
       "    <tr>\n",
       "      <th>59</th>\n",
       "      <td>-4.983119</td>\n",
       "    </tr>\n",
       "    <tr>\n",
       "      <th>office</th>\n",
       "      <td>-5.068764</td>\n",
       "    </tr>\n",
       "    <tr>\n",
       "      <th>mac</th>\n",
       "      <td>-5.119194</td>\n",
       "    </tr>\n",
       "    <tr>\n",
       "      <th>acrobat</th>\n",
       "      <td>-5.133401</td>\n",
       "    </tr>\n",
       "    <tr>\n",
       "      <th>size</th>\n",
       "      <td>-5.192338</td>\n",
       "    </tr>\n",
       "    <tr>\n",
       "      <th>windows</th>\n",
       "      <td>-5.195717</td>\n",
       "    </tr>\n",
       "    <tr>\n",
       "      <th>availability</th>\n",
       "      <td>-5.224903</td>\n",
       "    </tr>\n",
       "    <tr>\n",
       "      <th>use</th>\n",
       "      <td>-5.235411</td>\n",
       "    </tr>\n",
       "    <tr>\n",
       "      <th>deliver</th>\n",
       "      <td>-5.276747</td>\n",
       "    </tr>\n",
       "    <tr>\n",
       "      <th>said</th>\n",
       "      <td>-5.280423</td>\n",
       "    </tr>\n",
       "    <tr>\n",
       "      <th>investment</th>\n",
       "      <td>-5.289674</td>\n",
       "    </tr>\n",
       "    <tr>\n",
       "      <th>money</th>\n",
       "      <td>-5.293399</td>\n",
       "    </tr>\n",
       "    <tr>\n",
       "      <th>opinion</th>\n",
       "      <td>-5.310332</td>\n",
       "    </tr>\n",
       "    <tr>\n",
       "      <th>power</th>\n",
       "      <td>-5.312232</td>\n",
       "    </tr>\n",
       "    <tr>\n",
       "      <th>www</th>\n",
       "      <td>-5.339208</td>\n",
       "    </tr>\n",
       "    <tr>\n",
       "      <th>broker</th>\n",
       "      <td>-5.341163</td>\n",
       "    </tr>\n",
       "    <tr>\n",
       "      <th>shares</th>\n",
       "      <td>-5.343122</td>\n",
       "    </tr>\n",
       "    <tr>\n",
       "      <th>broadband</th>\n",
       "      <td>-5.352974</td>\n",
       "    </tr>\n",
       "    <tr>\n",
       "      <th>offers</th>\n",
       "      <td>-5.370957</td>\n",
       "    </tr>\n",
       "    <tr>\n",
       "      <th>offer</th>\n",
       "      <td>-5.412115</td>\n",
       "    </tr>\n",
       "    <tr>\n",
       "      <th>home</th>\n",
       "      <td>-5.424800</td>\n",
       "    </tr>\n",
       "    <tr>\n",
       "      <th>save</th>\n",
       "      <td>-5.461641</td>\n",
       "    </tr>\n",
       "    <tr>\n",
       "      <th>pay</th>\n",
       "      <td>-5.468285</td>\n",
       "    </tr>\n",
       "    <tr>\n",
       "      <th>creative</th>\n",
       "      <td>-5.493033</td>\n",
       "    </tr>\n",
       "    <tr>\n",
       "      <th>pro</th>\n",
       "      <td>-5.511425</td>\n",
       "    </tr>\n",
       "    <tr>\n",
       "      <th>available</th>\n",
       "      <td>-5.527799</td>\n",
       "    </tr>\n",
       "    <tr>\n",
       "      <th>49</th>\n",
       "      <td>-5.554085</td>\n",
       "    </tr>\n",
       "    <tr>\n",
       "      <th>like</th>\n",
       "      <td>-5.558940</td>\n",
       "    </tr>\n",
       "    <tr>\n",
       "      <th>download</th>\n",
       "      <td>-5.576118</td>\n",
       "    </tr>\n",
       "    <tr>\n",
       "      <th>macromedia</th>\n",
       "      <td>-5.578596</td>\n",
       "    </tr>\n",
       "    <tr>\n",
       "      <th>drive</th>\n",
       "      <td>-5.586068</td>\n",
       "    </tr>\n",
       "    <tr>\n",
       "      <th>80</th>\n",
       "      <td>-5.603723</td>\n",
       "    </tr>\n",
       "    <tr>\n",
       "      <th>instantly</th>\n",
       "      <td>-5.608825</td>\n",
       "    </tr>\n",
       "    <tr>\n",
       "      <th>vista</th>\n",
       "      <td>-5.611386</td>\n",
       "    </tr>\n",
       "    <tr>\n",
       "      <th>reviews</th>\n",
       "      <td>-5.616527</td>\n",
       "    </tr>\n",
       "    <tr>\n",
       "      <th>enterprise</th>\n",
       "      <td>-5.619108</td>\n",
       "    </tr>\n",
       "    <tr>\n",
       "      <th>05</th>\n",
       "      <td>-5.621695</td>\n",
       "    </tr>\n",
       "    <tr>\n",
       "      <th>just</th>\n",
       "      <td>-5.621695</td>\n",
       "    </tr>\n",
       "    <tr>\n",
       "      <th>95your</th>\n",
       "      <td>-5.629498</td>\n",
       "    </tr>\n",
       "    <tr>\n",
       "      <th>need</th>\n",
       "      <td>-5.634733</td>\n",
       "    </tr>\n",
       "  </tbody>\n",
       "</table>\n",
       "</div>"
      ],
      "text/plain": [
       "              Log Probability\n",
       "com                 -3.702794\n",
       "adobe               -4.342634\n",
       "79                  -4.403574\n",
       "price               -4.556449\n",
       "software            -4.811341\n",
       "php                 -4.833474\n",
       "suite               -4.885449\n",
       "time                -4.887933\n",
       "microsoft           -4.909304\n",
       "2007                -4.914400\n",
       "59                  -4.983119\n",
       "office              -5.068764\n",
       "mac                 -5.119194\n",
       "acrobat             -5.133401\n",
       "size                -5.192338\n",
       "windows             -5.195717\n",
       "availability        -5.224903\n",
       "use                 -5.235411\n",
       "deliver             -5.276747\n",
       "said                -5.280423\n",
       "investment          -5.289674\n",
       "money               -5.293399\n",
       "opinion             -5.310332\n",
       "power               -5.312232\n",
       "www                 -5.339208\n",
       "broker              -5.341163\n",
       "shares              -5.343122\n",
       "broadband           -5.352974\n",
       "offers              -5.370957\n",
       "offer               -5.412115\n",
       "home                -5.424800\n",
       "save                -5.461641\n",
       "pay                 -5.468285\n",
       "creative            -5.493033\n",
       "pro                 -5.511425\n",
       "available           -5.527799\n",
       "49                  -5.554085\n",
       "like                -5.558940\n",
       "download            -5.576118\n",
       "macromedia          -5.578596\n",
       "drive               -5.586068\n",
       "80                  -5.603723\n",
       "instantly           -5.608825\n",
       "vista               -5.611386\n",
       "reviews             -5.616527\n",
       "enterprise          -5.619108\n",
       "05                  -5.621695\n",
       "just                -5.621695\n",
       "95your              -5.629498\n",
       "need                -5.634733"
      ]
     },
     "execution_count": 18,
     "metadata": {},
     "output_type": "execute_result"
    }
   ],
   "source": [
    "# Empirical log probability of features given a class 1 (spam)\n",
    "coeff_df = pd.DataFrame(mnb.feature_log_prob_[1,:].flatten(), vectorizer.get_feature_names_out(), columns=['Log Probability'])  \n",
    "coeff_df = coeff_df.sort_values(by=['Log Probability'], ascending=False)\n",
    "\n",
    "# display the 50 most informative features (indicate spam)\n",
    "coeff_df.head(50)"
   ]
  },
  {
   "cell_type": "code",
   "execution_count": 19,
   "metadata": {},
   "outputs": [],
   "source": [
    "# Make class prediction for test set\n",
    "# y_pred_class is the binary label\n",
    "# https://scikit-learn.org/stable/modules/generated/sklearn.naive_bayes.MultinomialNB.html#sklearn.naive_bayes.MultinomialNB.predict\n",
    "y_pred_class = mnb.predict(X_test_vec)\n",
    "\n",
    "# y_pred_prob is the probability estimate\n",
    "# https://scikit-learn.org/stable/modules/generated/sklearn.naive_bayes.MultinomialNB.html#sklearn.naive_bayes.MultinomialNB.predict_proba\n",
    "y_pred_prob = mnb.predict_proba(X_test_vec)"
   ]
  },
  {
   "cell_type": "code",
   "execution_count": 20,
   "metadata": {},
   "outputs": [
    {
     "data": {
      "text/plain": [
       "array([0, 1, 1, ..., 0, 0, 0], dtype=int64)"
      ]
     },
     "execution_count": 20,
     "metadata": {},
     "output_type": "execute_result"
    }
   ],
   "source": [
    "y_pred_class"
   ]
  },
  {
   "cell_type": "code",
   "execution_count": 21,
   "metadata": {},
   "outputs": [
    {
     "data": {
      "text/plain": [
       "array([[1.00000000e+000, 8.66233645e-196],\n",
       "       [1.16602263e-011, 1.00000000e+000],\n",
       "       [2.61650520e-002, 9.73834948e-001],\n",
       "       ...,\n",
       "       [1.00000000e+000, 6.23979729e-201],\n",
       "       [9.77815482e-001, 2.21845180e-002],\n",
       "       [1.00000000e+000, 3.96310792e-083]])"
      ]
     },
     "execution_count": 21,
     "metadata": {},
     "output_type": "execute_result"
    }
   ],
   "source": [
    "y_pred_prob"
   ]
  },
  {
   "cell_type": "code",
   "execution_count": 22,
   "metadata": {},
   "outputs": [],
   "source": [
    "# import libararies for evaluation measures\n",
    "from sklearn.metrics import accuracy_score\n",
    "from sklearn.metrics import classification_report\n",
    "from sklearn.metrics import confusion_matrix"
   ]
  },
  {
   "cell_type": "code",
   "execution_count": 23,
   "metadata": {},
   "outputs": [
    {
     "name": "stdout",
     "output_type": "stream",
     "text": [
      "Accuracy: 0.9445129469790382\n",
      "Confusion Matrix: [[1464    7]\n",
      " [ 128  834]]\n",
      "Classification Report:               precision    recall  f1-score   support\n",
      "\n",
      "           0       0.92      1.00      0.96      1471\n",
      "           1       0.99      0.87      0.93       962\n",
      "\n",
      "    accuracy                           0.94      2433\n",
      "   macro avg       0.96      0.93      0.94      2433\n",
      "weighted avg       0.95      0.94      0.94      2433\n",
      "\n"
     ]
    }
   ],
   "source": [
    "print(\"Accuracy:\",accuracy_score(y_test, y_pred_class, normalize=True, sample_weight=None))\n",
    "print(\"Confusion Matrix:\", confusion_matrix(y_test, y_pred_class))\n",
    "print(\"Classification Report:\",classification_report(y_test, y_pred_class))"
   ]
  },
  {
   "cell_type": "code",
   "execution_count": 24,
   "metadata": {
    "scrolled": true
   },
   "outputs": [
    {
     "data": {
      "text/plain": [
       "3821    -- North Carolina Attorney General Roy Cooper drops all sexual assault and kidnap charges against three men stemming from a Duke lacrosse team party.Watch the latest video now on CNN.com. Access at http://CNN.com. CNN - The most trusted name in news.)+=+=+=+=+=+=+=+=+=+=+=+=+=+=+=+=+=+=+=+=+=+=+=+=+=+=+=+=+=+=+=Watch \"Larry King Live\" tonight to watch the mystery guestclip! Then go to http://www.cnn.com/larryking50 to enter theLarry King Suspender Sweepstakes for a chance to win a pair ofaut...\n",
       "2900    Hello sm1lies,It's time for another Microsoft Connected Services Framework Competition. $4,500 is up for grabs!Microsoft Corp. and BT Group PLC, in association with TopCoder(R), are currently running a series of Connected Services Sandbox Mashup Service Design and Assembly competitions. The competitions encourage participants to create \"network mashups\" that merge telecommunications features, such as voice and text messaging, with Web 2.0 applications like mapping and search. A new Creative ...\n",
       "1326    Hello sm1lies,A new Assembly Contest is now open for registration, with total prizes of $5,400. The Hygeia mobile application allows nursing professionals to manage scheduled shifts as well as bid on available shifts through portable devices. The components for this application are currently in development through the TopCoder, Inc. component competitions. A bonus is offered for integrating these components in place of the stubs required for this competition.The winning team will be paid $3,...\n",
       "157     April 9, 2007Salem, MassachusettsBy Paul Goodwin -------------------Featuring: Give Me the Simple Life ... But Not Too Simple The Chinese Entrepreneurial Spirit A Very Attractive Play on Solar Cells -------------------Sometimes, when the pace of the modern world gets to be too much, you hearpeople talk about how they'd like to scale things back, slow down and getin touch with a simpler reality. I've even thought about that myself,from time to time, although I'm also quite fond of the conveni...\n",
       "136     April 16, 2007Salem, MassachusettsBy Mike Cintolo---------------------Featuring Mike's Musings:Hello Again!Income funds yielding 8% to 10%A New Market Timing VehicleThe King of Video Games--------------------The last time I wrote to you, Tim was in China, the market had just takena hard right hook to the jaw, and I was thrown into duty as your honoraryCabot Wealth Advisory writer. Well, apparently the Grand Poobah (i.e.,Tim) was so happy with mine and Paul's write-ups that we're now on spotC...\n",
       "2570    NGO Response to Abbott???s announced $1000 price for Aluviain Low- and Lower-Middle Income CountriesApril 10, 2007Health GAP, Student Global AIDS Campaign, American Medical StudentAssociation, and Essential Action applaud that Thailand???s compulsorylicense, generic competition, WHO intervention, and activist pressure haveforced Abbott to offer a further 55% reduction in its tiered price for low-and lower-middle income countries. However, as clarified further below,the price discounts still ...\n",
       "2621    April 26, 2007Salem, MassachusettsBy Timothy Lutts-----Featuring Lutts' Logic:Buy Solar StocksSell Whole FoodsMind The Gap-----So the Dow topped 13,000 yesterday. What does that mean? Nothing. And everything. The Dow Industrial Average is not real; it's not even theaverage price of 30 stocks; when was the last time you saw a stock pricedat $13,000 per share? No, the Dow is just an artificial construct, and Isay the less attention paid to it the better.But old habits die hard, and people have...\n",
       "Name: Text, dtype: object"
      ]
     },
     "execution_count": 24,
     "metadata": {},
     "output_type": "execute_result"
    }
   ],
   "source": [
    "# Now let's see the false positive messages\n",
    "\n",
    "X_test[(y_test == 0) & (y_pred_class==1)]"
   ]
  },
  {
   "cell_type": "code",
   "execution_count": 25,
   "metadata": {
    "scrolled": true
   },
   "outputs": [
    {
     "data": {
      "text/plain": [
       "5510                                                                                                                                                                                                                     Want the degree but can't find the time?We provide a concept that will allow anyonewith sufficient work experience to obtain a fully verifiable University Degree.Bachelors, Masters or even a Doctorate.Think of it, within four to six weeks, you too could be a college graduate.1-510-868-6434\n",
       "7829                                                                                                                                                                                                                                                                                                                                                                  Hey...I am converting like crazy with Type-at-home.com. Check it out, I think you'll be blown away. http://shrinkster.com/nsb Sincerely,Joel Vallecer\n",
       "6647    This one is shoe in to Double by end of weekHuge Volume spike, many people are already in the knowHANS and FIZ returned over 13000 % returnsFire Mountain Bev CompanySYmb- F_B_V_G 2 Cents up 11% in 1 dayHANS Started at penny and reached $40Remember Snapple, this will be biggerWatch this trade ThursdayAdd it to your RadarPeople are already loading up, you should too!!Detroit. ... The Nuggets play just one more home game before April 4. ways. But at Michigan, we have a tradition of winning Big ...\n",
       "6056    Dear Prospective Legal Representative, OFFER TO ACT AS AN INTERNATIONAL LEGAL REPRESENTATIVE. I am Mr. Masuda Shinyaku, MD/CEO/PRESIDENT of Masuda Chemical Industries Co., Ltd. Japan. We are a company that deal on Chemical Products like caustic calcined magnesite, Nicotinic Acid/ niacin and lots more and we also export them into America , Canada , Europe and Asia. But presently, we are been faced with some problems, most especially in the issue of language/Currency Variance and also receivin...\n",
       "7296                                                                                                                                                                                                                                                                                                                                                                                                                                                                              Son splashes own seed into mother's mouth\n",
       "                                                                                                                                                                                                                                                               ...                                                                                                                                                                                                                                                         \n",
       "7004                                                                                                                                                                                                                                     Lazy to attend exam or classes?We have Diplomas, Degrees, Masters' or Doctorateto choose from any field of your interest.Only 2 weeks require to delivers the prestigious non-accrediteduniversities paper to your doorstep.Do not hesitate to give us a call today!1-413-280-6792\n",
       "5096                                                                                                                                                                                                                                                                                                                                                                                                         ???¨²?¨²?????????????¨²???¡§??¡ã?¡Á¡ã?????????¨ª????????¡¤?????????????????¡¤???¡Á????????¡¤?¨²???????????¡è??\n",
       "7682                                                                                                                                                                                                                                                                                                                                                                                     We need you to confirm your loan request. Please fill in registration form. After filling we will contact you as soon as possible.\n",
       "6092                                                                                                                                                                                                                         Sex can be one of the most enjoyable parts of your life.It may strengthen your relationship with your partner. It can also add excitement.If you have a problem getting or keeping an erection you MUST try viagra or cialis.Now you can buy original product 70% off:http://useleknfogood.com\n",
       "6852                                                                                                                                                    HiMy name is andrea. I found your email on that dating site.I also love sex on the side. I have a loving partner but he is working 16 hours a day and we have sex only once a week :(If you are interested and wanna see my pictures just email me at candrea754@mindspringemail.infoDon`t reply, use the email above (my boyfriend doesn`t know about that email!)\n",
       "Name: Text, Length: 128, dtype: object"
      ]
     },
     "execution_count": 25,
     "metadata": {},
     "output_type": "execute_result"
    }
   ],
   "source": [
    "# Now let's see the false negative messages\n",
    "\n",
    "X_test[(y_test == 1) & (y_pred_class==0)]"
   ]
  },
  {
   "cell_type": "code",
   "execution_count": 26,
   "metadata": {},
   "outputs": [
    {
     "data": {
      "text/plain": [
       "array([0, 1], dtype=int64)"
      ]
     },
     "execution_count": 26,
     "metadata": {},
     "output_type": "execute_result"
    }
   ],
   "source": [
    "mnb.classes_"
   ]
  },
  {
   "cell_type": "code",
   "execution_count": 27,
   "metadata": {},
   "outputs": [],
   "source": [
    "from sklearn.metrics import roc_curve\n",
    "from sklearn.metrics import auc\n",
    "\n",
    "# y_test is the true label, pred_prob[:,1] measures the predicted probability of belonging to class 1 (which is defined as positive class)\n",
    "# https://scikit-learn.org/stable/modules/generated/sklearn.metrics.roc_curve.html\n",
    "fpr, tpr, thresholds = roc_curve(y_test, y_pred_prob[:,1], pos_label=1)\n",
    "#fpr, tpr, thresholds = roc_curve(y_test, pred_val2, pos_label=1)"
   ]
  },
  {
   "cell_type": "code",
   "execution_count": 28,
   "metadata": {},
   "outputs": [
    {
     "data": {
      "text/plain": [
       "0.9955868905562991"
      ]
     },
     "execution_count": 28,
     "metadata": {},
     "output_type": "execute_result"
    }
   ],
   "source": [
    "# Aread under ROC curve\n",
    "roc_auc=auc(fpr,tpr)\n",
    "roc_auc"
   ]
  },
  {
   "cell_type": "code",
   "execution_count": 29,
   "metadata": {},
   "outputs": [
    {
     "data": {
      "image/png": "[encoded data removed]",
      "text/plain": [
       "<Figure size 432x288 with 1 Axes>"
      ]
     },
     "metadata": {
      "needs_background": "light"
     },
     "output_type": "display_data"
    }
   ],
   "source": [
    "import matplotlib.pyplot as plt\n",
    "%matplotlib inline\n",
    "\n",
    "plt.figure()\n",
    "lw = 2\n",
    "plt.plot(fpr, tpr, marker='o',color='darkorange',\n",
    "         lw=lw, label='ROC curve (area = %0.2f)' % roc_auc)\n",
    "plt.plot([0, 1], [0, 1], color='navy', lw=lw, linestyle='--')\n",
    "plt.xlim([-0.05, 1.0])\n",
    "plt.ylim([0.0, 1.05])\n",
    "plt.xlabel('False Positive Rate')\n",
    "plt.ylabel('True Positive Rate')\n",
    "plt.title('Receiver operating characteristic')\n",
    "plt.legend(loc=\"lower right\")\n",
    "plt.show()"
   ]
  },
  {
   "cell_type": "code",
   "execution_count": null,
   "metadata": {},
   "outputs": [],
   "source": []
  }
 ],
 "metadata": {
  "kernelspec": {
   "display_name": "Python 3",
   "language": "python",
   "name": "python3"
  },
  "language_info": {
   "codemirror_mode": {
    "name": "ipython",
    "version": 3
   },
   "file_extension": ".py",
   "mimetype": "text/x-python",
   "name": "python",
   "nbconvert_exporter": "python",
   "pygments_lexer": "ipython3",
   "version": "3.8.3"
  }
 },
 "nbformat": 4,
 "nbformat_minor": 2
}
