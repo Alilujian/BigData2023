{
 "cells": [
  {
   "cell_type": "markdown",
   "metadata": {},
   "source": [
    "### Naive Bayes (Classifier)\n",
    "\n",
    "#### Predicting Personal Loan Acceptance Based on Naive Bayes Classifier\n",
    "\n",
    "The file **UniversalBank.csv** contains data on 5000 customers of Universal Bank. The data include customer demographic information (age, income, etc.), the customer's relationship with the bank (mortgage, securities account, etc.), and the customer response to the last personal loan campaign (Personal Loan). Among these 5000 customers, only 480 (=9.6%) accepted the personal loan that was offered to them in the earlier campaign. "
   ]
  },
  {
   "cell_type": "code",
   "execution_count": 1,
   "metadata": {},
   "outputs": [],
   "source": [
    "# Import useful libararies used for data management\n",
    "\n",
    "import numpy as np\n",
    "import pandas as pd\n",
    "\n",
    "# load dataset 'UniversalBank.csv', using 'ID' as index column\n",
    "\n",
    "data = pd.read_csv('UniversalBank.csv', index_col='ID')"
   ]
  },
  {
   "cell_type": "code",
   "execution_count": 2,
   "metadata": {},
   "outputs": [
    {
     "data": {
      "text/html": [
       "<div>\n",
       "<style scoped>\n",
       "    .dataframe tbody tr th:only-of-type {\n",
       "        vertical-align: middle;\n",
       "    }\n",
       "\n",
       "    .dataframe tbody tr th {\n",
       "        vertical-align: top;\n",
       "    }\n",
       "\n",
       "    .dataframe thead th {\n",
       "        text-align: right;\n",
       "    }\n",
       "</style>\n",
       "<table border=\"1\" class=\"dataframe\">\n",
       "  <thead>\n",
       "    <tr style=\"text-align: right;\">\n",
       "      <th></th>\n",
       "      <th>Age</th>\n",
       "      <th>Experience</th>\n",
       "      <th>Income</th>\n",
       "      <th>ZIP Code</th>\n",
       "      <th>Family</th>\n",
       "      <th>CCAvg</th>\n",
       "      <th>Education</th>\n",
       "      <th>Mortgage</th>\n",
       "      <th>Personal Loan</th>\n",
       "      <th>Securities Account</th>\n",
       "      <th>CD Account</th>\n",
       "      <th>Online</th>\n",
       "      <th>CreditCard</th>\n",
       "    </tr>\n",
       "    <tr>\n",
       "      <th>ID</th>\n",
       "      <th></th>\n",
       "      <th></th>\n",
       "      <th></th>\n",
       "      <th></th>\n",
       "      <th></th>\n",
       "      <th></th>\n",
       "      <th></th>\n",
       "      <th></th>\n",
       "      <th></th>\n",
       "      <th></th>\n",
       "      <th></th>\n",
       "      <th></th>\n",
       "      <th></th>\n",
       "    </tr>\n",
       "  </thead>\n",
       "  <tbody>\n",
       "    <tr>\n",
       "      <th>1</th>\n",
       "      <td>25</td>\n",
       "      <td>1</td>\n",
       "      <td>49</td>\n",
       "      <td>91107</td>\n",
       "      <td>4</td>\n",
       "      <td>1.6</td>\n",
       "      <td>1</td>\n",
       "      <td>0</td>\n",
       "      <td>0</td>\n",
       "      <td>1</td>\n",
       "      <td>0</td>\n",
       "      <td>0</td>\n",
       "      <td>0</td>\n",
       "    </tr>\n",
       "    <tr>\n",
       "      <th>2</th>\n",
       "      <td>45</td>\n",
       "      <td>19</td>\n",
       "      <td>34</td>\n",
       "      <td>90089</td>\n",
       "      <td>3</td>\n",
       "      <td>1.5</td>\n",
       "      <td>1</td>\n",
       "      <td>0</td>\n",
       "      <td>0</td>\n",
       "      <td>1</td>\n",
       "      <td>0</td>\n",
       "      <td>0</td>\n",
       "      <td>0</td>\n",
       "    </tr>\n",
       "    <tr>\n",
       "      <th>3</th>\n",
       "      <td>39</td>\n",
       "      <td>15</td>\n",
       "      <td>11</td>\n",
       "      <td>94720</td>\n",
       "      <td>1</td>\n",
       "      <td>1.0</td>\n",
       "      <td>1</td>\n",
       "      <td>0</td>\n",
       "      <td>0</td>\n",
       "      <td>0</td>\n",
       "      <td>0</td>\n",
       "      <td>0</td>\n",
       "      <td>0</td>\n",
       "    </tr>\n",
       "    <tr>\n",
       "      <th>4</th>\n",
       "      <td>35</td>\n",
       "      <td>9</td>\n",
       "      <td>100</td>\n",
       "      <td>94112</td>\n",
       "      <td>1</td>\n",
       "      <td>2.7</td>\n",
       "      <td>2</td>\n",
       "      <td>0</td>\n",
       "      <td>0</td>\n",
       "      <td>0</td>\n",
       "      <td>0</td>\n",
       "      <td>0</td>\n",
       "      <td>0</td>\n",
       "    </tr>\n",
       "    <tr>\n",
       "      <th>5</th>\n",
       "      <td>35</td>\n",
       "      <td>8</td>\n",
       "      <td>45</td>\n",
       "      <td>91330</td>\n",
       "      <td>4</td>\n",
       "      <td>1.0</td>\n",
       "      <td>2</td>\n",
       "      <td>0</td>\n",
       "      <td>0</td>\n",
       "      <td>0</td>\n",
       "      <td>0</td>\n",
       "      <td>0</td>\n",
       "      <td>1</td>\n",
       "    </tr>\n",
       "  </tbody>\n",
       "</table>\n",
       "</div>"
      ],
      "text/plain": [
       "    Age  Experience  Income  ZIP Code  Family  CCAvg  Education  Mortgage  \\\n",
       "ID                                                                          \n",
       "1    25           1      49     91107       4    1.6          1         0   \n",
       "2    45          19      34     90089       3    1.5          1         0   \n",
       "3    39          15      11     94720       1    1.0          1         0   \n",
       "4    35           9     100     94112       1    2.7          2         0   \n",
       "5    35           8      45     91330       4    1.0          2         0   \n",
       "\n",
       "    Personal Loan  Securities Account  CD Account  Online  CreditCard  \n",
       "ID                                                                     \n",
       "1               0                   1           0       0           0  \n",
       "2               0                   1           0       0           0  \n",
       "3               0                   0           0       0           0  \n",
       "4               0                   0           0       0           0  \n",
       "5               0                   0           0       0           1  "
      ]
     },
     "execution_count": 2,
     "metadata": {},
     "output_type": "execute_result"
    }
   ],
   "source": [
    "data.head()"
   ]
  },
  {
   "cell_type": "code",
   "execution_count": 3,
   "metadata": {},
   "outputs": [],
   "source": [
    "# define independent attributes \n",
    "features = ['Age','Experience','Income','Family','CCAvg','Education','Mortgage','Securities Account', 'CD Account', 'Online', 'CreditCard']\n",
    "\n",
    "# assign values for independent variables and target variable ('Personal Loan')\n",
    "X = data [features]\n",
    "y = data ['Personal Loan']"
   ]
  },
  {
   "cell_type": "code",
   "execution_count": 4,
   "metadata": {},
   "outputs": [],
   "source": [
    "# import train_test split\n",
    "from sklearn.model_selection import train_test_split\n",
    "\n",
    "# split train data into train and test, 60% in training and 40% in testing\n",
    "X_train, X_test, y_train, y_test = train_test_split(X, y, test_size=0.4, random_state = 0)"
   ]
  },
  {
   "cell_type": "code",
   "execution_count": 5,
   "metadata": {},
   "outputs": [],
   "source": [
    "#Import Gaussian Naive Bayes model from sklearn\n",
    "from sklearn.naive_bayes import GaussianNB\n",
    "\n",
    "\n",
    "#Create a Gaussian Naive Bayes Classifier\n",
    "# https://scikit-learn.org/stable/modules/generated/sklearn.naive_bayes.GaussianNB.html\n",
    "gnb = GaussianNB()"
   ]
  },
  {
   "cell_type": "code",
   "execution_count": 6,
   "metadata": {},
   "outputs": [
    {
     "data": {
      "text/plain": [
       "GaussianNB()"
      ]
     },
     "execution_count": 6,
     "metadata": {},
     "output_type": "execute_result"
    }
   ],
   "source": [
    "# train model using training dataset\n",
    "# https://scikit-learn.org/stable/modules/generated/sklearn.naive_bayes.GaussianNB.html#sklearn.naive_bayes.GaussianNB.fit\n",
    "gnb.fit(X_train, y_train)"
   ]
  },
  {
   "cell_type": "code",
   "execution_count": 7,
   "metadata": {},
   "outputs": [
    {
     "name": "stdout",
     "output_type": "stream",
     "text": [
      "<class 'pandas.core.frame.DataFrame'>\n",
      "Int64Index: 2000 entries, 399 to 362\n",
      "Data columns (total 11 columns):\n",
      " #   Column              Non-Null Count  Dtype  \n",
      "---  ------              --------------  -----  \n",
      " 0   Age                 2000 non-null   int64  \n",
      " 1   Experience          2000 non-null   int64  \n",
      " 2   Income              2000 non-null   int64  \n",
      " 3   Family              2000 non-null   int64  \n",
      " 4   CCAvg               2000 non-null   float64\n",
      " 5   Education           2000 non-null   int64  \n",
      " 6   Mortgage            2000 non-null   int64  \n",
      " 7   Securities Account  2000 non-null   int64  \n",
      " 8   CD Account          2000 non-null   int64  \n",
      " 9   Online              2000 non-null   int64  \n",
      " 10  CreditCard          2000 non-null   int64  \n",
      "dtypes: float64(1), int64(10)\n",
      "memory usage: 187.5 KB\n"
     ]
    }
   ],
   "source": [
    "X_test.info()"
   ]
  },
  {
   "cell_type": "code",
   "execution_count": 9,
   "metadata": {},
   "outputs": [],
   "source": [
    "# Do majority-class prediction (not accept: 0) -> Benchmark model\n",
    "# https://docs.scipy.org/doc/numpy/reference/generated/numpy.zeros.html\n",
    "pred_val_maj=np.zeros((2000,), dtype=int)"
   ]
  },
  {
   "cell_type": "code",
   "execution_count": 10,
   "metadata": {},
   "outputs": [
    {
     "data": {
      "text/plain": [
       "array([0, 0, 0, ..., 0, 0, 1])"
      ]
     },
     "execution_count": 10,
     "metadata": {},
     "output_type": "execute_result"
    }
   ],
   "source": [
    "# test naive bayes model (output binary label)\n",
    "# https://scikit-learn.org/stable/modules/generated/sklearn.naive_bayes.GaussianNB.html#sklearn.naive_bayes.GaussianNB.predict\n",
    "pred_val = gnb.predict(X_test)\n",
    "pred_val"
   ]
  },
  {
   "cell_type": "code",
   "execution_count": 11,
   "metadata": {},
   "outputs": [],
   "source": [
    "# import libararies for evaluation measures\n",
    "from sklearn.metrics import accuracy_score\n",
    "from sklearn.metrics import classification_report\n",
    "from sklearn.metrics import confusion_matrix"
   ]
  },
  {
   "cell_type": "code",
   "execution_count": 12,
   "metadata": {},
   "outputs": [
    {
     "name": "stdout",
     "output_type": "stream",
     "text": [
      "Accuracy of Benchmark Model: 0.904\n",
      "Accuracy of Naive Bayes Model: 0.886\n"
     ]
    }
   ],
   "source": [
    "# print the accurary rate\n",
    "# https://scikit-learn.org/stable/modules/generated/sklearn.metrics.accuracy_score.html\n",
    "print(\"Accuracy of Benchmark Model:\",accuracy_score(y_test, pred_val_maj, normalize=True, sample_weight=None))\n",
    "print(\"Accuracy of Naive Bayes Model:\",accuracy_score(y_test, pred_val, normalize=True, sample_weight=None))"
   ]
  },
  {
   "cell_type": "code",
   "execution_count": 13,
   "metadata": {},
   "outputs": [
    {
     "name": "stdout",
     "output_type": "stream",
     "text": [
      "Confusion Matrix of Benchmark Model: [[1808    0]\n",
      " [ 192    0]]\n",
      "Confusion Matrix of Naive Bayes Model: [[1660  148]\n",
      " [  80  112]]\n"
     ]
    }
   ],
   "source": [
    "# print the confusion matrix\n",
    "# https://scikit-learn.org/stable/modules/generated/sklearn.metrics.confusion_matrix.html\n",
    "print(\"Confusion Matrix of Benchmark Model:\", confusion_matrix(y_test, pred_val_maj))\n",
    "print(\"Confusion Matrix of Naive Bayes Model:\", confusion_matrix(y_test, pred_val))"
   ]
  },
  {
   "cell_type": "code",
   "execution_count": 14,
   "metadata": {},
   "outputs": [
    {
     "name": "stdout",
     "output_type": "stream",
     "text": [
      "Classification Report of Benmark Model:               precision    recall  f1-score   support\n",
      "\n",
      "           0       0.90      1.00      0.95      1808\n",
      "           1       0.00      0.00      0.00       192\n",
      "\n",
      "    accuracy                           0.90      2000\n",
      "   macro avg       0.45      0.50      0.47      2000\n",
      "weighted avg       0.82      0.90      0.86      2000\n",
      "\n",
      "Classification Report of Naive Bayes Model:               precision    recall  f1-score   support\n",
      "\n",
      "           0       0.95      0.92      0.94      1808\n",
      "           1       0.43      0.58      0.50       192\n",
      "\n",
      "    accuracy                           0.89      2000\n",
      "   macro avg       0.69      0.75      0.72      2000\n",
      "weighted avg       0.90      0.89      0.89      2000\n",
      "\n"
     ]
    },
    {
     "name": "stderr",
     "output_type": "stream",
     "text": [
      "/Users/joannek/opt/anaconda3/lib/python3.8/site-packages/sklearn/metrics/_classification.py:1221: UndefinedMetricWarning: Precision and F-score are ill-defined and being set to 0.0 in labels with no predicted samples. Use `zero_division` parameter to control this behavior.\n",
      "  _warn_prf(average, modifier, msg_start, len(result))\n"
     ]
    }
   ],
   "source": [
    "# print the classification report with precision, recall\n",
    "# https://scikit-learn.org/stable/modules/generated/sklearn.metrics.classification_report.html\n",
    "print(\"Classification Report of Benmark Model:\",classification_report(y_test, pred_val_maj))\n",
    "print(\"Classification Report of Naive Bayes Model:\",classification_report(y_test, pred_val))"
   ]
  },
  {
   "cell_type": "code",
   "execution_count": 15,
   "metadata": {},
   "outputs": [
    {
     "data": {
      "text/plain": [
       "array([[9.99998214e-01, 1.78628096e-06],\n",
       "       [9.99686292e-01, 3.13708008e-04],\n",
       "       [9.94547427e-01, 5.45257336e-03],\n",
       "       ...,\n",
       "       [9.99959711e-01, 4.02894594e-05],\n",
       "       [9.70935877e-01, 2.90641229e-02],\n",
       "       [7.22698425e-02, 9.27730157e-01]])"
      ]
     },
     "execution_count": 15,
     "metadata": {},
     "output_type": "execute_result"
    }
   ],
   "source": [
    "from sklearn.metrics import roc_curve\n",
    "from sklearn.metrics import auc\n",
    "\n",
    "# test model (output probability estimate)\n",
    "# https://scikit-learn.org/stable/modules/generated/sklearn.naive_bayes.GaussianNB.html#sklearn.naive_bayes.GaussianNB.predict_proba\n",
    "pred_prob = gnb.predict_proba(X_test)\n",
    "\n",
    "# show the probability of belonging to class 0 and class 1\n",
    "pred_prob"
   ]
  },
  {
   "cell_type": "code",
   "execution_count": 16,
   "metadata": {},
   "outputs": [
    {
     "data": {
      "text/plain": [
       "array([0, 1])"
      ]
     },
     "execution_count": 16,
     "metadata": {},
     "output_type": "execute_result"
    }
   ],
   "source": [
    "# check the order of classes\n",
    "gnb.classes_"
   ]
  },
  {
   "cell_type": "code",
   "execution_count": 17,
   "metadata": {},
   "outputs": [
    {
     "data": {
      "text/plain": [
       "array([1.78628096e-06, 3.13708008e-04, 5.45257336e-03, ...,\n",
       "       4.02894594e-05, 2.90641229e-02, 9.27730157e-01])"
      ]
     },
     "execution_count": 17,
     "metadata": {},
     "output_type": "execute_result"
    }
   ],
   "source": [
    "# display the probability estimate for class 1\n",
    "\n",
    "pred_prob[:,1]"
   ]
  },
  {
   "cell_type": "code",
   "execution_count": 18,
   "metadata": {},
   "outputs": [],
   "source": [
    "# y_test is the true label, pred_prob[:,1] measures the predicted probability of belonging to class 1 (which is defined as positive class)\n",
    "# https://scikit-learn.org/stable/modules/generated/sklearn.metrics.roc_curve.html\n",
    "fpr, tpr, thresholds = roc_curve(y_test, pred_prob[:,1], pos_label=1)\n",
    "#fpr, tpr, thresholds = roc_curve(y_test, pred_val2, pos_label=1)"
   ]
  },
  {
   "cell_type": "code",
   "execution_count": 19,
   "metadata": {},
   "outputs": [
    {
     "data": {
      "text/plain": [
       "array([0.00000000e+00, 0.00000000e+00, 0.00000000e+00, 5.53097345e-04,\n",
       "       5.53097345e-04, 1.10619469e-03, 1.10619469e-03, 1.65929204e-03,\n",
       "       1.65929204e-03, 2.21238938e-03, 2.21238938e-03, 3.31858407e-03,\n",
       "       3.31858407e-03, 3.87168142e-03, 3.87168142e-03, 4.42477876e-03,\n",
       "       4.42477876e-03, 4.97787611e-03, 4.97787611e-03, 5.53097345e-03,\n",
       "       5.53097345e-03, 6.08407080e-03, 6.08407080e-03, 6.63716814e-03,\n",
       "       6.63716814e-03, 7.74336283e-03, 7.74336283e-03, 8.29646018e-03,\n",
       "       8.29646018e-03, 9.40265487e-03, 9.40265487e-03, 9.95575221e-03,\n",
       "       9.95575221e-03, 1.10619469e-02, 1.10619469e-02, 1.16150442e-02,\n",
       "       1.16150442e-02, 1.21681416e-02, 1.21681416e-02, 1.27212389e-02,\n",
       "       1.27212389e-02, 1.32743363e-02, 1.32743363e-02, 1.38274336e-02,\n",
       "       1.38274336e-02, 1.43805310e-02, 1.43805310e-02, 1.49336283e-02,\n",
       "       1.49336283e-02, 1.54867257e-02, 1.54867257e-02, 2.21238938e-02,\n",
       "       2.21238938e-02, 2.87610619e-02, 2.87610619e-02, 2.98672566e-02,\n",
       "       2.98672566e-02, 3.20796460e-02, 3.20796460e-02, 3.42920354e-02,\n",
       "       3.42920354e-02, 3.70575221e-02, 3.70575221e-02, 3.98230088e-02,\n",
       "       3.98230088e-02, 4.14823009e-02, 4.14823009e-02, 4.20353982e-02,\n",
       "       4.20353982e-02, 4.36946903e-02, 4.36946903e-02, 4.53539823e-02,\n",
       "       4.53539823e-02, 4.70132743e-02, 4.70132743e-02, 5.03318584e-02,\n",
       "       5.03318584e-02, 5.30973451e-02, 5.30973451e-02, 5.53097345e-02,\n",
       "       5.53097345e-02, 6.13938053e-02, 6.13938053e-02, 6.25000000e-02,\n",
       "       6.25000000e-02, 6.52654867e-02, 6.52654867e-02, 6.91371681e-02,\n",
       "       6.91371681e-02, 7.19026549e-02, 7.19026549e-02, 7.52212389e-02,\n",
       "       7.52212389e-02, 7.68805310e-02, 7.68805310e-02, 7.96460177e-02,\n",
       "       7.96460177e-02, 8.01991150e-02, 8.01991150e-02, 8.07522124e-02,\n",
       "       8.07522124e-02, 8.18584071e-02, 8.18584071e-02, 8.46238938e-02,\n",
       "       8.46238938e-02, 8.57300885e-02, 8.57300885e-02, 8.73893805e-02,\n",
       "       8.73893805e-02, 8.79424779e-02, 8.79424779e-02, 9.01548673e-02,\n",
       "       9.01548673e-02, 9.07079646e-02, 9.07079646e-02, 9.18141593e-02,\n",
       "       9.18141593e-02, 9.40265487e-02, 9.40265487e-02, 9.62389381e-02,\n",
       "       9.62389381e-02, 9.67920354e-02, 9.67920354e-02, 9.73451327e-02,\n",
       "       9.73451327e-02, 9.84513274e-02, 9.84513274e-02, 9.95575221e-02,\n",
       "       9.95575221e-02, 1.01216814e-01, 1.01216814e-01, 1.05088496e-01,\n",
       "       1.05088496e-01, 1.06747788e-01, 1.06747788e-01, 1.09513274e-01,\n",
       "       1.09513274e-01, 1.10619469e-01, 1.10619469e-01, 1.15044248e-01,\n",
       "       1.15044248e-01, 1.17256637e-01, 1.17256637e-01, 1.18362832e-01,\n",
       "       1.18362832e-01, 1.19469027e-01, 1.19469027e-01, 1.20575221e-01,\n",
       "       1.20575221e-01, 1.21128319e-01, 1.21128319e-01, 1.24446903e-01,\n",
       "       1.24446903e-01, 1.27212389e-01, 1.27212389e-01, 1.30530973e-01,\n",
       "       1.30530973e-01, 1.34402655e-01, 1.34402655e-01, 1.36061947e-01,\n",
       "       1.36061947e-01, 1.41039823e-01, 1.41039823e-01, 1.41592920e-01,\n",
       "       1.41592920e-01, 1.43252212e-01, 1.43252212e-01, 1.44911504e-01,\n",
       "       1.44911504e-01, 1.47123894e-01, 1.47123894e-01, 1.52101770e-01,\n",
       "       1.52101770e-01, 1.61504425e-01, 1.61504425e-01, 1.63163717e-01,\n",
       "       1.63163717e-01, 1.63716814e-01, 1.63716814e-01, 1.68694690e-01,\n",
       "       1.68694690e-01, 1.70353982e-01, 1.70353982e-01, 1.70907080e-01,\n",
       "       1.70907080e-01, 1.72566372e-01, 1.72566372e-01, 1.74778761e-01,\n",
       "       1.74778761e-01, 1.78650442e-01, 1.78650442e-01, 1.84181416e-01,\n",
       "       1.84181416e-01, 1.88606195e-01, 1.88606195e-01, 1.89159292e-01,\n",
       "       1.89159292e-01, 1.91371681e-01, 1.91371681e-01, 1.95796460e-01,\n",
       "       1.95796460e-01, 1.96349558e-01, 1.96349558e-01, 2.02433628e-01,\n",
       "       2.02433628e-01, 2.09070796e-01, 2.09070796e-01, 2.11283186e-01,\n",
       "       2.11283186e-01, 2.36725664e-01, 2.36725664e-01, 2.58849558e-01,\n",
       "       2.58849558e-01, 2.89823009e-01, 2.89823009e-01, 3.81084071e-01,\n",
       "       3.81084071e-01, 3.82190265e-01, 3.82190265e-01, 4.34734513e-01,\n",
       "       4.35840708e-01, 4.66814159e-01, 4.66814159e-01, 6.06747788e-01,\n",
       "       6.07853982e-01, 1.00000000e+00])"
      ]
     },
     "execution_count": 19,
     "metadata": {},
     "output_type": "execute_result"
    }
   ],
   "source": [
    "fpr"
   ]
  },
  {
   "cell_type": "code",
   "execution_count": 20,
   "metadata": {},
   "outputs": [
    {
     "data": {
      "text/plain": [
       "array([0.        , 0.00520833, 0.08333333, 0.08333333, 0.08854167,\n",
       "       0.08854167, 0.13020833, 0.13020833, 0.15104167, 0.15104167,\n",
       "       0.16666667, 0.16666667, 0.17708333, 0.17708333, 0.19270833,\n",
       "       0.19270833, 0.20833333, 0.20833333, 0.21354167, 0.21354167,\n",
       "       0.22395833, 0.22395833, 0.25520833, 0.25520833, 0.27083333,\n",
       "       0.27083333, 0.27604167, 0.27604167, 0.28125   , 0.28125   ,\n",
       "       0.28645833, 0.28645833, 0.30208333, 0.30208333, 0.3125    ,\n",
       "       0.3125    , 0.31770833, 0.31770833, 0.33854167, 0.33854167,\n",
       "       0.34375   , 0.34375   , 0.359375  , 0.359375  , 0.36458333,\n",
       "       0.36458333, 0.375     , 0.375     , 0.38020833, 0.38020833,\n",
       "       0.390625  , 0.390625  , 0.39583333, 0.39583333, 0.40625   ,\n",
       "       0.40625   , 0.41145833, 0.41145833, 0.41666667, 0.41666667,\n",
       "       0.421875  , 0.421875  , 0.43229167, 0.43229167, 0.4375    ,\n",
       "       0.4375    , 0.44270833, 0.44270833, 0.44791667, 0.44791667,\n",
       "       0.46354167, 0.46354167, 0.46875   , 0.46875   , 0.47395833,\n",
       "       0.47395833, 0.47916667, 0.47916667, 0.484375  , 0.484375  ,\n",
       "       0.5       , 0.5       , 0.50520833, 0.50520833, 0.515625  ,\n",
       "       0.515625  , 0.53125   , 0.53125   , 0.53645833, 0.53645833,\n",
       "       0.546875  , 0.546875  , 0.55208333, 0.55208333, 0.55729167,\n",
       "       0.55729167, 0.5625    , 0.5625    , 0.56770833, 0.56770833,\n",
       "       0.57291667, 0.57291667, 0.58333333, 0.58333333, 0.60416667,\n",
       "       0.60416667, 0.609375  , 0.609375  , 0.61458333, 0.61458333,\n",
       "       0.625     , 0.625     , 0.63020833, 0.63020833, 0.63541667,\n",
       "       0.63541667, 0.64583333, 0.64583333, 0.65104167, 0.65104167,\n",
       "       0.65625   , 0.65625   , 0.66145833, 0.66145833, 0.66666667,\n",
       "       0.66666667, 0.671875  , 0.671875  , 0.68229167, 0.68229167,\n",
       "       0.6875    , 0.6875    , 0.69270833, 0.69270833, 0.69791667,\n",
       "       0.69791667, 0.70833333, 0.70833333, 0.71354167, 0.71354167,\n",
       "       0.71875   , 0.71875   , 0.72916667, 0.72916667, 0.74479167,\n",
       "       0.74479167, 0.75      , 0.75      , 0.76041667, 0.76041667,\n",
       "       0.765625  , 0.765625  , 0.78125   , 0.78125   , 0.78645833,\n",
       "       0.78645833, 0.79166667, 0.79166667, 0.796875  , 0.796875  ,\n",
       "       0.82291667, 0.82291667, 0.828125  , 0.828125  , 0.84375   ,\n",
       "       0.84375   , 0.84895833, 0.84895833, 0.85416667, 0.85416667,\n",
       "       0.86458333, 0.86458333, 0.86979167, 0.86979167, 0.875     ,\n",
       "       0.875     , 0.88020833, 0.88020833, 0.88541667, 0.88541667,\n",
       "       0.89583333, 0.89583333, 0.90104167, 0.90104167, 0.90625   ,\n",
       "       0.90625   , 0.91145833, 0.91145833, 0.91666667, 0.91666667,\n",
       "       0.921875  , 0.921875  , 0.92708333, 0.92708333, 0.93229167,\n",
       "       0.93229167, 0.9375    , 0.9375    , 0.94270833, 0.94270833,\n",
       "       0.94791667, 0.94791667, 0.953125  , 0.953125  , 0.95833333,\n",
       "       0.95833333, 0.96354167, 0.96354167, 0.96875   , 0.96875   ,\n",
       "       0.97395833, 0.97395833, 0.97916667, 0.97916667, 0.984375  ,\n",
       "       0.984375  , 0.98958333, 0.98958333, 0.99479167, 0.99479167,\n",
       "       0.99479167, 0.99479167, 1.        , 1.        , 1.        ,\n",
       "       1.        ])"
      ]
     },
     "execution_count": 20,
     "metadata": {},
     "output_type": "execute_result"
    }
   ],
   "source": [
    "tpr"
   ]
  },
  {
   "cell_type": "code",
   "execution_count": 21,
   "metadata": {},
   "outputs": [
    {
     "data": {
      "text/plain": [
       "array([2.00000000e+00, 1.00000000e+00, 9.99999956e-01, 9.99999937e-01,\n",
       "       9.99999813e-01, 9.99999700e-01, 9.99999395e-01, 9.99999374e-01,\n",
       "       9.99998397e-01, 9.99998321e-01, 9.99997508e-01, 9.99997326e-01,\n",
       "       9.99997277e-01, 9.99996971e-01, 9.99995878e-01, 9.99995161e-01,\n",
       "       9.99994227e-01, 9.99994157e-01, 9.99994077e-01, 9.99993464e-01,\n",
       "       9.99992144e-01, 9.99991911e-01, 9.99983952e-01, 9.99976254e-01,\n",
       "       9.99965850e-01, 9.99956761e-01, 9.99955578e-01, 9.99954935e-01,\n",
       "       9.99950739e-01, 9.99944714e-01, 9.99939288e-01, 9.99938117e-01,\n",
       "       9.99920385e-01, 9.99906641e-01, 9.99898182e-01, 9.99884468e-01,\n",
       "       9.99881634e-01, 9.99881127e-01, 9.99701760e-01, 9.99675678e-01,\n",
       "       9.99649877e-01, 9.99630215e-01, 9.99457756e-01, 9.99457628e-01,\n",
       "       9.99298513e-01, 9.99261555e-01, 9.99140573e-01, 9.98906927e-01,\n",
       "       9.98840180e-01, 9.98827564e-01, 9.98285347e-01, 9.97645451e-01,\n",
       "       9.97525827e-01, 9.95226581e-01, 9.94945047e-01, 9.94543354e-01,\n",
       "       9.93791594e-01, 9.91578783e-01, 9.90586773e-01, 9.87181263e-01,\n",
       "       9.86880345e-01, 9.82312368e-01, 9.79880243e-01, 9.74000148e-01,\n",
       "       9.72414138e-01, 9.67537181e-01, 9.63260395e-01, 9.62043799e-01,\n",
       "       9.59357101e-01, 9.57350643e-01, 9.54492354e-01, 9.50413036e-01,\n",
       "       9.50260094e-01, 9.45909208e-01, 9.44964464e-01, 9.32637183e-01,\n",
       "       9.32559638e-01, 9.27506714e-01, 9.27049752e-01, 9.12190255e-01,\n",
       "       9.02317209e-01, 8.57600367e-01, 8.54396728e-01, 8.48265978e-01,\n",
       "       8.46390589e-01, 8.22814755e-01, 8.15673595e-01, 7.71128888e-01,\n",
       "       7.70840231e-01, 7.51906855e-01, 7.46553616e-01, 7.04121591e-01,\n",
       "       6.97719807e-01, 6.78120701e-01, 6.75832310e-01, 6.01003004e-01,\n",
       "       5.93105035e-01, 5.87780358e-01, 5.76007479e-01, 5.61482737e-01,\n",
       "       5.40441219e-01, 5.26670595e-01, 5.15521432e-01, 4.50088134e-01,\n",
       "       4.46277437e-01, 4.41014283e-01, 4.40326183e-01, 4.26065942e-01,\n",
       "       4.23215911e-01, 4.13113897e-01, 4.11828188e-01, 3.98852057e-01,\n",
       "       3.96026039e-01, 3.90053144e-01, 3.88073705e-01, 3.79837688e-01,\n",
       "       3.64030820e-01, 3.33724945e-01, 3.30785424e-01, 3.00908127e-01,\n",
       "       2.97899433e-01, 2.97192693e-01, 2.95270970e-01, 2.92360002e-01,\n",
       "       2.89891152e-01, 2.64895177e-01, 2.56516068e-01, 2.37593364e-01,\n",
       "       2.37040596e-01, 2.25313279e-01, 2.24234818e-01, 1.86552034e-01,\n",
       "       1.83819400e-01, 1.78681006e-01, 1.74210795e-01, 1.61413895e-01,\n",
       "       1.57702892e-01, 1.56670236e-01, 1.55446583e-01, 1.42990809e-01,\n",
       "       1.34120460e-01, 1.24434558e-01, 1.16736886e-01, 1.11420443e-01,\n",
       "       1.03161251e-01, 9.96333949e-02, 9.90201667e-02, 9.83573534e-02,\n",
       "       9.62574150e-02, 9.57805519e-02, 9.57739838e-02, 8.99885198e-02,\n",
       "       8.60751272e-02, 8.17661200e-02, 8.16846699e-02, 7.52087597e-02,\n",
       "       7.26001055e-02, 6.45818164e-02, 6.35500973e-02, 5.92325299e-02,\n",
       "       5.63576560e-02, 5.12533836e-02, 5.07242634e-02, 4.89276099e-02,\n",
       "       4.58088352e-02, 4.28851673e-02, 4.27522069e-02, 4.13311717e-02,\n",
       "       4.10461472e-02, 3.97262373e-02, 3.94528958e-02, 3.45563622e-02,\n",
       "       3.38290375e-02, 2.80556986e-02, 2.76873011e-02, 2.66647976e-02,\n",
       "       2.50871677e-02, 2.46238528e-02, 2.44695859e-02, 1.96387776e-02,\n",
       "       1.96101538e-02, 1.94421394e-02, 1.94277828e-02, 1.93993213e-02,\n",
       "       1.92185940e-02, 1.88235990e-02, 1.83624554e-02, 1.78664895e-02,\n",
       "       1.77883745e-02, 1.65133754e-02, 1.63355904e-02, 1.45679768e-02,\n",
       "       1.44689166e-02, 1.34045270e-02, 1.33860798e-02, 1.30045393e-02,\n",
       "       1.29784452e-02, 1.25440536e-02, 1.23716127e-02, 1.13942704e-02,\n",
       "       1.13247755e-02, 1.13240258e-02, 1.12978227e-02, 9.78315385e-03,\n",
       "       9.75876281e-03, 8.72293169e-03, 8.68683902e-03, 8.46796542e-03,\n",
       "       8.37796022e-03, 5.94521094e-03, 5.73333684e-03, 4.29650562e-03,\n",
       "       4.24861835e-03, 2.99677368e-03, 2.98585635e-03, 1.22033957e-03,\n",
       "       1.21055861e-03, 1.20333208e-03, 1.17767614e-03, 7.39836911e-04,\n",
       "       7.36522022e-04, 5.21068479e-04, 5.20600083e-04, 1.28631961e-04,\n",
       "       1.28056826e-04, 2.23756481e-07])"
      ]
     },
     "execution_count": 21,
     "metadata": {},
     "output_type": "execute_result"
    }
   ],
   "source": [
    "thresholds"
   ]
  },
  {
   "cell_type": "code",
   "execution_count": 22,
   "metadata": {},
   "outputs": [
    {
     "data": {
      "text/plain": [
       "0.9259944229351031"
      ]
     },
     "execution_count": 22,
     "metadata": {},
     "output_type": "execute_result"
    }
   ],
   "source": [
    "# Aread under ROC curve\n",
    "roc_auc=auc(fpr,tpr)\n",
    "roc_auc"
   ]
  },
  {
   "cell_type": "code",
   "execution_count": 23,
   "metadata": {},
   "outputs": [
    {
     "data": {
      "image/png": "[encoded data removed]",
      "text/plain": [
       "<Figure size 432x288 with 1 Axes>"
      ]
     },
     "metadata": {
      "needs_background": "light"
     },
     "output_type": "display_data"
    }
   ],
   "source": [
    "import matplotlib.pyplot as plt\n",
    "%matplotlib inline\n",
    "\n",
    "plt.figure()\n",
    "lw = 2\n",
    "plt.plot(fpr, tpr, marker='o',color='darkorange',\n",
    "         lw=lw, label='ROC curve (area = %0.2f)' % roc_auc)\n",
    "plt.plot([0, 1], [0, 1], color='navy', lw=lw, linestyle='--')\n",
    "plt.xlim([-0.05, 1.0])\n",
    "plt.ylim([0.0, 1.05])\n",
    "plt.xlabel('False Positive Rate')\n",
    "plt.ylabel('True Positive Rate')\n",
    "plt.title('Receiver operating characteristic')\n",
    "plt.legend(loc=\"lower right\")\n",
    "plt.show()"
   ]
  },
  {
   "cell_type": "code",
   "execution_count": null,
   "metadata": {},
   "outputs": [],
   "source": []
  },
  {
   "cell_type": "code",
   "execution_count": null,
   "metadata": {},
   "outputs": [],
   "source": []
  }
 ],
 "metadata": {
  "kernelspec": {
   "display_name": "Python 3",
   "language": "python",
   "name": "python3"
  },
  "language_info": {
   "codemirror_mode": {
    "name": "ipython",
    "version": 3
   },
   "file_extension": ".py",
   "mimetype": "text/x-python",
   "name": "python",
   "nbconvert_exporter": "python",
   "pygments_lexer": "ipython3",
   "version": "3.8.3"
  }
 },
 "nbformat": 4,
 "nbformat_minor": 2
}
