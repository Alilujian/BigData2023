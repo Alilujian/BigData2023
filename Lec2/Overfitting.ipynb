{
 "cells": [
  {
   "cell_type": "markdown",
   "metadata": {},
   "source": [
    "### Overfitting and Pre-Pruning"
   ]
  },
  {
   "cell_type": "code",
   "execution_count": 2,
   "metadata": {},
   "outputs": [
    {
     "data": {
      "text/html": [
       "<div>\n",
       "<style scoped>\n",
       "    .dataframe tbody tr th:only-of-type {\n",
       "        vertical-align: middle;\n",
       "    }\n",
       "\n",
       "    .dataframe tbody tr th {\n",
       "        vertical-align: top;\n",
       "    }\n",
       "\n",
       "    .dataframe thead th {\n",
       "        text-align: right;\n",
       "    }\n",
       "</style>\n",
       "<table border=\"1\" class=\"dataframe\">\n",
       "  <thead>\n",
       "    <tr style=\"text-align: right;\">\n",
       "      <th></th>\n",
       "      <th>Survived</th>\n",
       "      <th>Pclass</th>\n",
       "      <th>Name</th>\n",
       "      <th>Age</th>\n",
       "      <th>SibSp</th>\n",
       "      <th>Parch</th>\n",
       "      <th>Ticket</th>\n",
       "      <th>Fare</th>\n",
       "      <th>Sex_male</th>\n",
       "      <th>Embarked_Q</th>\n",
       "      <th>Embarked_S</th>\n",
       "    </tr>\n",
       "    <tr>\n",
       "      <th>PassengerId</th>\n",
       "      <th></th>\n",
       "      <th></th>\n",
       "      <th></th>\n",
       "      <th></th>\n",
       "      <th></th>\n",
       "      <th></th>\n",
       "      <th></th>\n",
       "      <th></th>\n",
       "      <th></th>\n",
       "      <th></th>\n",
       "      <th></th>\n",
       "    </tr>\n",
       "  </thead>\n",
       "  <tbody>\n",
       "    <tr>\n",
       "      <th>1</th>\n",
       "      <td>0</td>\n",
       "      <td>3</td>\n",
       "      <td>Braund, Mr. Owen Harris</td>\n",
       "      <td>22.0</td>\n",
       "      <td>1</td>\n",
       "      <td>0</td>\n",
       "      <td>A/5 21171</td>\n",
       "      <td>7.2500</td>\n",
       "      <td>1</td>\n",
       "      <td>0</td>\n",
       "      <td>1</td>\n",
       "    </tr>\n",
       "    <tr>\n",
       "      <th>2</th>\n",
       "      <td>1</td>\n",
       "      <td>1</td>\n",
       "      <td>Cumings, Mrs. John Bradley (Florence Briggs Th...</td>\n",
       "      <td>38.0</td>\n",
       "      <td>1</td>\n",
       "      <td>0</td>\n",
       "      <td>PC 17599</td>\n",
       "      <td>71.2833</td>\n",
       "      <td>0</td>\n",
       "      <td>0</td>\n",
       "      <td>0</td>\n",
       "    </tr>\n",
       "    <tr>\n",
       "      <th>3</th>\n",
       "      <td>1</td>\n",
       "      <td>3</td>\n",
       "      <td>Heikkinen, Miss. Laina</td>\n",
       "      <td>26.0</td>\n",
       "      <td>0</td>\n",
       "      <td>0</td>\n",
       "      <td>STON/O2. 3101282</td>\n",
       "      <td>7.9250</td>\n",
       "      <td>0</td>\n",
       "      <td>0</td>\n",
       "      <td>1</td>\n",
       "    </tr>\n",
       "    <tr>\n",
       "      <th>4</th>\n",
       "      <td>1</td>\n",
       "      <td>1</td>\n",
       "      <td>Futrelle, Mrs. Jacques Heath (Lily May Peel)</td>\n",
       "      <td>35.0</td>\n",
       "      <td>1</td>\n",
       "      <td>0</td>\n",
       "      <td>113803</td>\n",
       "      <td>53.1000</td>\n",
       "      <td>0</td>\n",
       "      <td>0</td>\n",
       "      <td>1</td>\n",
       "    </tr>\n",
       "    <tr>\n",
       "      <th>5</th>\n",
       "      <td>0</td>\n",
       "      <td>3</td>\n",
       "      <td>Allen, Mr. William Henry</td>\n",
       "      <td>35.0</td>\n",
       "      <td>0</td>\n",
       "      <td>0</td>\n",
       "      <td>373450</td>\n",
       "      <td>8.0500</td>\n",
       "      <td>1</td>\n",
       "      <td>0</td>\n",
       "      <td>1</td>\n",
       "    </tr>\n",
       "  </tbody>\n",
       "</table>\n",
       "</div>"
      ],
      "text/plain": [
       "             Survived  Pclass  \\\n",
       "PassengerId                     \n",
       "1                   0       3   \n",
       "2                   1       1   \n",
       "3                   1       3   \n",
       "4                   1       1   \n",
       "5                   0       3   \n",
       "\n",
       "                                                          Name   Age  SibSp  \\\n",
       "PassengerId                                                                   \n",
       "1                                      Braund, Mr. Owen Harris  22.0      1   \n",
       "2            Cumings, Mrs. John Bradley (Florence Briggs Th...  38.0      1   \n",
       "3                                       Heikkinen, Miss. Laina  26.0      0   \n",
       "4                 Futrelle, Mrs. Jacques Heath (Lily May Peel)  35.0      1   \n",
       "5                                     Allen, Mr. William Henry  35.0      0   \n",
       "\n",
       "             Parch            Ticket     Fare  Sex_male  Embarked_Q  \\\n",
       "PassengerId                                                           \n",
       "1                0         A/5 21171   7.2500         1           0   \n",
       "2                0          PC 17599  71.2833         0           0   \n",
       "3                0  STON/O2. 3101282   7.9250         0           0   \n",
       "4                0            113803  53.1000         0           0   \n",
       "5                0            373450   8.0500         1           0   \n",
       "\n",
       "             Embarked_S  \n",
       "PassengerId              \n",
       "1                     1  \n",
       "2                     0  \n",
       "3                     1  \n",
       "4                     1  \n",
       "5                     1  "
      ]
     },
     "execution_count": 2,
     "metadata": {},
     "output_type": "execute_result"
    }
   ],
   "source": [
    "# Import useful libararies used for data management\n",
    "\n",
    "import numpy as np\n",
    "import pandas as pd\n",
    "\n",
    "# load dataset 'titanic_train.csv' for titanic case, using 'PassengerId' as index column\n",
    "\n",
    "data = pd.read_csv('titanic_train.csv', index_col='PassengerId')\n",
    "\n",
    "# Replace missing values in 'Age' with mean (numeric variables) \n",
    "\n",
    "data['Age'].fillna(data['Age'].mean(),inplace=True)\n",
    "\n",
    "# Replace missing values in ‘Embarked’ with the most frequent value (mode) \n",
    "\n",
    "data['Embarked'].fillna(data['Embarked'].value_counts().index[0], inplace = True)\n",
    "\n",
    "# Delete the column 'Cabin', too many missing values\n",
    "\n",
    "data = data.drop(columns='Cabin')\n",
    "\n",
    "# Create dummy variables for categorical feature 'Sex' and 'Embarked', using 'Sex' and 'Embarked' as prefix, and drop the first dummy\n",
    "# https://pandas.pydata.org/pandas-docs/stable/reference/api/pandas.get_dummies.html\n",
    "\n",
    "data = pd.get_dummies(data, columns=['Sex', 'Embarked'], prefix=['Sex', 'Embarked'], drop_first=True)\n",
    "\n",
    "data.head()"
   ]
  },
  {
   "cell_type": "code",
   "execution_count": 3,
   "metadata": {},
   "outputs": [
    {
     "data": {
      "text/plain": [
       "0    549\n",
       "1    342\n",
       "Name: Survived, dtype: int64"
      ]
     },
     "execution_count": 3,
     "metadata": {},
     "output_type": "execute_result"
    }
   ],
   "source": [
    "# show the frequency of values for target variable\n",
    "\n",
    "data['Survived'].value_counts()"
   ]
  },
  {
   "cell_type": "code",
   "execution_count": 4,
   "metadata": {},
   "outputs": [
    {
     "name": "stdout",
     "output_type": "stream",
     "text": [
      "<class 'pandas.core.frame.DataFrame'>\n",
      "Int64Index: 891 entries, 1 to 891\n",
      "Data columns (total 11 columns):\n",
      " #   Column      Non-Null Count  Dtype  \n",
      "---  ------      --------------  -----  \n",
      " 0   Survived    891 non-null    int64  \n",
      " 1   Pclass      891 non-null    int64  \n",
      " 2   Name        891 non-null    object \n",
      " 3   Age         891 non-null    float64\n",
      " 4   SibSp       891 non-null    int64  \n",
      " 5   Parch       891 non-null    int64  \n",
      " 6   Ticket      891 non-null    object \n",
      " 7   Fare        891 non-null    float64\n",
      " 8   Sex_male    891 non-null    uint8  \n",
      " 9   Embarked_Q  891 non-null    uint8  \n",
      " 10  Embarked_S  891 non-null    uint8  \n",
      "dtypes: float64(2), int64(4), object(2), uint8(3)\n",
      "memory usage: 65.3+ KB\n"
     ]
    }
   ],
   "source": [
    "# get the types of features for test set (pay attension to attributes with missing values)\n",
    "data.info()"
   ]
  },
  {
   "cell_type": "code",
   "execution_count": 5,
   "metadata": {},
   "outputs": [],
   "source": [
    "# write the cleaned results to csv file for later use. \n",
    "# https://pandas.pydata.org/pandas-docs/stable/reference/api/pandas.DataFrame.to_csv.html\n",
    "data.to_csv('titanic_cleaned.csv', index=True)"
   ]
  },
  {
   "cell_type": "markdown",
   "metadata": {},
   "source": [
    "### We will build classification model based on this cleaned dataset"
   ]
  },
  {
   "cell_type": "code",
   "execution_count": 6,
   "metadata": {},
   "outputs": [],
   "source": [
    "# define attributes and target variable\n",
    "\n",
    "features = ['Pclass','Age','SibSp','Parch','Fare','Sex_male','Embarked_Q','Embarked_S']\n",
    "target = ['Survived']\n",
    "\n",
    "# assign values for independent variables and target variable\n",
    "\n",
    "X = data [features]\n",
    "y = data [target]"
   ]
  },
  {
   "cell_type": "code",
   "execution_count": 7,
   "metadata": {},
   "outputs": [],
   "source": [
    "# import DecisionTreeClassifier\n",
    "\n",
    "from sklearn.tree import DecisionTreeClassifier\n",
    "\n",
    "# import evaluation tools\n",
    "from sklearn.metrics import accuracy_score"
   ]
  },
  {
   "cell_type": "code",
   "execution_count": 8,
   "metadata": {},
   "outputs": [],
   "source": [
    "# import train_test split\n",
    "from sklearn.model_selection import train_test_split\n",
    "\n",
    "# split train data into train and test, 60% in training and 40% in testing\n",
    "X_train, X_test, y_train, y_test = train_test_split(X, y, test_size=0.4, random_state = 0)"
   ]
  },
  {
   "cell_type": "code",
   "execution_count": 9,
   "metadata": {},
   "outputs": [
    {
     "data": {
      "text/plain": [
       "DecisionTreeClassifier()"
      ]
     },
     "execution_count": 9,
     "metadata": {},
     "output_type": "execute_result"
    }
   ],
   "source": [
    "# define our model decision tree model\n",
    "model = DecisionTreeClassifier()\n",
    "\n",
    "# build the decision tree model based on defalut hyperparameter settings\n",
    "model.fit(X_train, y_train)"
   ]
  },
  {
   "cell_type": "code",
   "execution_count": 10,
   "metadata": {},
   "outputs": [],
   "source": [
    "# test model base on 40% data\n",
    "pred_val = model.predict(X_test)"
   ]
  },
  {
   "cell_type": "code",
   "execution_count": 11,
   "metadata": {},
   "outputs": [
    {
     "name": "stdout",
     "output_type": "stream",
     "text": [
      "Accuracy from 40% test data: 0.7563025210084033\n"
     ]
    }
   ],
   "source": [
    "# print evaluation result for 40% test data\n",
    "print(\"Accuracy from 40% test data:\", accuracy_score(y_test, pred_val, normalize=True, sample_weight=None))\n"
   ]
  },
  {
   "cell_type": "code",
   "execution_count": 12,
   "metadata": {},
   "outputs": [],
   "source": [
    "# test evaluation result for 60% train data\n",
    "pred_val_train = model.predict(X_train)\n"
   ]
  },
  {
   "cell_type": "code",
   "execution_count": 13,
   "metadata": {},
   "outputs": [
    {
     "name": "stdout",
     "output_type": "stream",
     "text": [
      "Accuracy from 60% train data: 0.9831460674157303\n"
     ]
    }
   ],
   "source": [
    "# print evaluation result for 60% train data\n",
    "print(\"Accuracy from 60% train data:\",accuracy_score(y_train, pred_val_train, normalize=True, sample_weight=None))"
   ]
  },
  {
   "cell_type": "markdown",
   "metadata": {},
   "source": [
    "**Apparently, there is a discrepancy in model performance on training set and test set. Symptoms of overfitting: good accuracy on training data but poor on hold out test data!**"
   ]
  },
  {
   "cell_type": "markdown",
   "metadata": {},
   "source": [
    "**Next,let's explore the model performance on training and test set by varying the depth of the tree.**\n",
    "- max_depth indicates how deep the tree can be. The deeper the tree, the more splits it has and it captures more information about the training data. \n",
    "- Let's fit the decision tree with depths ranging from 1 to 32 and plot the train and test accuracy scores"
   ]
  },
  {
   "cell_type": "code",
   "execution_count": 13,
   "metadata": {},
   "outputs": [],
   "source": [
    "# create an array that holds the max_depth\n",
    "# https://docs.scipy.org/doc/numpy/reference/generated/numpy.linspace.html\n",
    "    \n",
    "max_depth = np.linspace(1,32,32, endpoint=True)"
   ]
  },
  {
   "cell_type": "code",
   "execution_count": 14,
   "metadata": {},
   "outputs": [
    {
     "data": {
      "text/plain": [
       "array([ 1.,  2.,  3.,  4.,  5.,  6.,  7.,  8.,  9., 10., 11., 12., 13.,\n",
       "       14., 15., 16., 17., 18., 19., 20., 21., 22., 23., 24., 25., 26.,\n",
       "       27., 28., 29., 30., 31., 32.])"
      ]
     },
     "execution_count": 14,
     "metadata": {},
     "output_type": "execute_result"
    }
   ],
   "source": [
    "max_depth\n",
    "# ouput with dot = no meaning"
   ]
  },
  {
   "cell_type": "code",
   "execution_count": 15,
   "metadata": {},
   "outputs": [],
   "source": [
    "# generate two empty lists to store the model performance under different tree max_depths\n",
    "train_results =[]\n",
    "test_results = []\n",
    "\n",
    "# create a loop to try out all the number from 1 to 32 as max_depth in a decision tree\n",
    "for max_depth_i in max_depth:\n",
    "    \n",
    "    # train the model (with the specific tree max_depth)\n",
    "    dt = DecisionTreeClassifier(max_depth=max_depth_i)\n",
    "    dt.fit(X_train, y_train)\n",
    "    \n",
    "    # evalute model performance on training set    \n",
    "    train_pred = dt.predict(X_train)\n",
    "    accuracy = accuracy_score(y_train, train_pred, normalize=True, sample_weight=None)\n",
    "    # append the result to the list train_results\n",
    "    train_results.append(accuracy)\n",
    "    \n",
    "    # evalute model performance on training set        \n",
    "    y_pred = dt.predict(X_test)\n",
    "    accuracy = accuracy_score(y_test, y_pred, normalize=True, sample_weight=None)\n",
    "    # append the result to the list train_results\n",
    "    test_results.append(accuracy)"
   ]
  },
  {
   "cell_type": "code",
   "execution_count": 16,
   "metadata": {},
   "outputs": [
    {
     "data": {
      "text/plain": [
       "[0.7921348314606742,\n",
       " 0.799625468164794,\n",
       " 0.8370786516853933,\n",
       " 0.848314606741573,\n",
       " 0.8576779026217228,\n",
       " 0.8726591760299626,\n",
       " 0.8876404494382022,\n",
       " 0.9063670411985019,\n",
       " 0.9325842696629213,\n",
       " 0.949438202247191,\n",
       " 0.9588014981273408,\n",
       " 0.9719101123595506,\n",
       " 0.9794007490636704,\n",
       " 0.9831460674157303,\n",
       " 0.9831460674157303,\n",
       " 0.9831460674157303,\n",
       " 0.9831460674157303,\n",
       " 0.9831460674157303,\n",
       " 0.9831460674157303,\n",
       " 0.9831460674157303,\n",
       " 0.9831460674157303,\n",
       " 0.9831460674157303,\n",
       " 0.9831460674157303,\n",
       " 0.9831460674157303,\n",
       " 0.9831460674157303,\n",
       " 0.9831460674157303,\n",
       " 0.9831460674157303,\n",
       " 0.9831460674157303,\n",
       " 0.9831460674157303,\n",
       " 0.9831460674157303,\n",
       " 0.9831460674157303,\n",
       " 0.9831460674157303]"
      ]
     },
     "execution_count": 16,
     "metadata": {},
     "output_type": "execute_result"
    }
   ],
   "source": [
    "train_results"
   ]
  },
  {
   "cell_type": "code",
   "execution_count": 17,
   "metadata": {},
   "outputs": [
    {
     "data": {
      "text/plain": [
       "[0.7787114845938375,\n",
       " 0.7843137254901961,\n",
       " 0.8123249299719888,\n",
       " 0.8123249299719888,\n",
       " 0.7955182072829131,\n",
       " 0.7899159663865546,\n",
       " 0.7843137254901961,\n",
       " 0.7535014005602241,\n",
       " 0.7507002801120448,\n",
       " 0.7478991596638656,\n",
       " 0.7535014005602241,\n",
       " 0.7619047619047619,\n",
       " 0.7535014005602241,\n",
       " 0.7563025210084033,\n",
       " 0.7535014005602241,\n",
       " 0.7507002801120448,\n",
       " 0.7507002801120448,\n",
       " 0.7563025210084033,\n",
       " 0.7450980392156863,\n",
       " 0.7563025210084033,\n",
       " 0.7563025210084033,\n",
       " 0.7507002801120448,\n",
       " 0.7507002801120448,\n",
       " 0.7535014005602241,\n",
       " 0.7563025210084033,\n",
       " 0.7619047619047619,\n",
       " 0.7535014005602241,\n",
       " 0.7563025210084033,\n",
       " 0.7591036414565826,\n",
       " 0.7535014005602241,\n",
       " 0.7394957983193278,\n",
       " 0.7647058823529411]"
      ]
     },
     "execution_count": 17,
     "metadata": {},
     "output_type": "execute_result"
    }
   ],
   "source": [
    "test_results"
   ]
  },
  {
   "cell_type": "code",
   "execution_count": 18,
   "metadata": {},
   "outputs": [
    {
     "data": {
      "image/png": "[encoded data removed]",
      "text/plain": [
       "<Figure size 432x288 with 1 Axes>"
      ]
     },
     "metadata": {
      "needs_background": "light"
     },
     "output_type": "display_data"
    }
   ],
   "source": [
    "import matplotlib.pyplot as plt\n",
    "from matplotlib.legend_handler import HandlerLine2D\n",
    "%matplotlib inline\n",
    "\n",
    "line1, = plt.plot(max_depth, train_results, marker='o', color='b', label='Train accuracy')\n",
    "line2, = plt.plot(max_depth, test_results, marker='*', color='r', label='Test accuracy')\n",
    "plt.legend()\n",
    "plt.ylabel('Accuracy score')\n",
    "plt.xlabel('Tree depth')\n",
    "plt.show()"
   ]
  },
  {
   "cell_type": "markdown",
   "metadata": {},
   "source": [
    "#### Symptoms of overfitting: good accuracy on training data but poor on hold out test data!\n",
    "**You can also change other hyperparameters in the tree (eg: min_sample_split, min_samples_leaf, max_leaf_nodes, etc.) to understand the overfitting problem**"
   ]
  },
  {
   "cell_type": "markdown",
   "metadata": {},
   "source": [
    "Train Data Set: as the tree depth increase, the more accurate the result is\n",
    "Test Data Set: the accuracy level does not necessary associate with the tree depth, its optimal depth is around 3-5"
   ]
  }
 ],
 "metadata": {
  "kernelspec": {
   "display_name": "Python 3",
   "language": "python",
   "name": "python3"
  },
  "language_info": {
   "codemirror_mode": {
    "name": "ipython",
    "version": 3
   },
   "file_extension": ".py",
   "mimetype": "text/x-python",
   "name": "python",
   "nbconvert_exporter": "python",
   "pygments_lexer": "ipython3",
   "version": "3.8.3"
  }
 },
 "nbformat": 4,
 "nbformat_minor": 2
}
