{
 "cells": [
  {
   "cell_type": "code",
   "execution_count": 1,
   "metadata": {},
   "outputs": [],
   "source": [
    "# Import useful libararies used for data management\n",
    "\n",
    "import numpy as np\n",
    "import pandas as pd\n",
    "\n",
    "# load dataset 'titanic_cleaned.csv', using 'PassengerId' as index column\n",
    "\n",
    "data = pd.read_csv('titanic_cleaned.csv', index_col='PassengerId')\n",
    "\n",
    "# define attributes and target variable\n",
    "\n",
    "features = ['Pclass','Age','SibSp','Parch','Fare','Sex_male','Embarked_Q','Embarked_S']\n",
    "target = ['Survived']\n",
    "\n",
    "# assign values for independent variables and target variable\n",
    "\n",
    "X = data [features]\n",
    "y = data [target]"
   ]
  },
  {
   "cell_type": "code",
   "execution_count": 2,
   "metadata": {},
   "outputs": [],
   "source": [
    "# import train_test split\n",
    "from sklearn.model_selection import train_test_split\n",
    "\n",
    "# split train data into train and test, 60% in training and 40% in testing\n",
    "X_train, X_test, y_train, y_test = train_test_split(X, y, test_size=0.4, random_state = 0)"
   ]
  },
  {
   "cell_type": "code",
   "execution_count": 3,
   "metadata": {},
   "outputs": [],
   "source": [
    "# import DecisionTreeClassifier\n",
    "from sklearn.tree import DecisionTreeClassifier\n",
    "\n",
    "# define our model decision tree model\n",
    "model = DecisionTreeClassifier(criterion='gini', splitter ='best', \n",
    "                                max_depth=5, min_samples_split=20, random_state=0)"
   ]
  },
  {
   "cell_type": "code",
   "execution_count": 4,
   "metadata": {},
   "outputs": [
    {
     "data": {
      "text/plain": [
       "DecisionTreeClassifier(max_depth=5, min_samples_split=20, random_state=0)"
      ]
     },
     "execution_count": 4,
     "metadata": {},
     "output_type": "execute_result"
    }
   ],
   "source": [
    "# train model using training dataset\n",
    "model.fit(X_train, y_train)"
   ]
  },
  {
   "cell_type": "code",
   "execution_count": 5,
   "metadata": {},
   "outputs": [
    {
     "data": {
      "text/plain": [
       "array([0, 0, 1, 1, 1, 0, 1, 1, 0, 1, 0, 1, 0, 1, 1, 1, 0, 0, 0, 1, 0, 1,\n",
       "       0, 0, 1, 1, 1, 1, 1, 0, 0, 1, 0, 0, 0, 0, 0, 0, 0, 0, 0, 0, 0, 0,\n",
       "       1, 0, 0, 1, 0, 0, 0, 0, 1, 0, 0, 0, 0, 0, 0, 0, 0, 1, 1, 0, 1, 1,\n",
       "       1, 0, 0, 1, 1, 0, 0, 0, 0, 0, 0, 0, 0, 0, 0, 0, 1, 0, 0, 1, 1, 0,\n",
       "       1, 1, 0, 0, 1, 1, 0, 0, 1, 0, 0, 0, 0, 0, 0, 0, 1, 0, 1, 0, 0, 1,\n",
       "       0, 1, 1, 1, 0, 1, 1, 1, 0, 1, 0, 0, 0, 0, 0, 0, 0, 0, 0, 0, 1, 0,\n",
       "       0, 1, 0, 0, 0, 0, 0, 0, 0, 1, 0, 1, 1, 1, 0, 1, 1, 0, 0, 0, 0, 0,\n",
       "       1, 0, 0, 0, 1, 1, 0, 0, 1, 0, 0, 0, 0, 0, 0, 0, 0, 1, 0, 0, 1, 0,\n",
       "       1, 0, 0, 1, 0, 0, 0, 0, 0, 0, 1, 0, 0, 1, 1, 0, 1, 1, 0, 0, 0, 1,\n",
       "       0, 0, 0, 1, 0, 1, 0, 0, 0, 1, 1, 0, 0, 0, 1, 1, 0, 0, 1, 1, 0, 1,\n",
       "       0, 1, 1, 0, 1, 0, 0, 1, 0, 0, 0, 1, 1, 1, 0, 0, 1, 1, 1, 0, 0, 1,\n",
       "       1, 0, 1, 0, 1, 0, 0, 1, 0, 0, 0, 0, 0, 1, 1, 0, 1, 0, 0, 0, 0, 0,\n",
       "       0, 0, 1, 0, 0, 1, 1, 0, 1, 0, 0, 0, 0, 0, 1, 1, 0, 1, 0, 1, 0, 0,\n",
       "       0, 0, 0, 0, 0, 0, 1, 1, 1, 0, 0, 0, 0, 0, 1, 0, 0, 1, 0, 1, 0, 0,\n",
       "       1, 0, 0, 0, 0, 0, 0, 0, 0, 0, 0, 0, 0, 0, 1, 1, 0, 0, 0, 0, 0, 0,\n",
       "       0, 0, 0, 0, 0, 0, 0, 0, 1, 0, 0, 0, 0, 0, 0, 0, 1, 0, 0, 0, 1, 1,\n",
       "       0, 0, 1, 0, 1])"
      ]
     },
     "execution_count": 5,
     "metadata": {},
     "output_type": "execute_result"
    }
   ],
   "source": [
    "# test model (output binary label)\n",
    "pred_val = model.predict(X_test)\n",
    "pred_val"
   ]
  },
  {
   "cell_type": "code",
   "execution_count": 6,
   "metadata": {},
   "outputs": [
    {
     "data": {
      "text/plain": [
       "array([[0.88648649, 0.11351351],\n",
       "       [0.88648649, 0.11351351],\n",
       "       [0.38888889, 0.61111111],\n",
       "       [0.01470588, 0.98529412],\n",
       "       [0.17857143, 0.82142857],\n",
       "       [0.6875    , 0.3125    ],\n",
       "       [0.01470588, 0.98529412],\n",
       "       [0.01470588, 0.98529412],\n",
       "       [0.6875    , 0.3125    ],\n",
       "       [0.17857143, 0.82142857],\n",
       "       [0.88648649, 0.11351351],\n",
       "       [0.15      , 0.85      ],\n",
       "       [0.88648649, 0.11351351],\n",
       "       [0.01470588, 0.98529412],\n",
       "       [0.01470588, 0.98529412],\n",
       "       [0.46428571, 0.53571429],\n",
       "       [0.88648649, 0.11351351],\n",
       "       [0.88648649, 0.11351351],\n",
       "       [1.        , 0.        ],\n",
       "       [0.38888889, 0.61111111],\n",
       "       [0.88648649, 0.11351351],\n",
       "       [0.01470588, 0.98529412],\n",
       "       [0.88648649, 0.11351351],\n",
       "       [0.6875    , 0.3125    ],\n",
       "       [0.46428571, 0.53571429],\n",
       "       [0.01470588, 0.98529412],\n",
       "       [0.44444444, 0.55555556],\n",
       "       [0.46428571, 0.53571429],\n",
       "       [0.01470588, 0.98529412],\n",
       "       [0.875     , 0.125     ],\n",
       "       [1.        , 0.        ],\n",
       "       [0.15      , 0.85      ],\n",
       "       [0.88648649, 0.11351351],\n",
       "       [0.6875    , 0.3125    ],\n",
       "       [0.88648649, 0.11351351],\n",
       "       [0.6875    , 0.3125    ],\n",
       "       [0.925     , 0.075     ],\n",
       "       [0.88648649, 0.11351351],\n",
       "       [0.88648649, 0.11351351],\n",
       "       [0.925     , 0.075     ],\n",
       "       [0.6875    , 0.3125    ],\n",
       "       [0.88648649, 0.11351351],\n",
       "       [0.88648649, 0.11351351],\n",
       "       [0.88648649, 0.11351351],\n",
       "       [0.01470588, 0.98529412],\n",
       "       [0.88648649, 0.11351351],\n",
       "       [0.88648649, 0.11351351],\n",
       "       [0.01470588, 0.98529412],\n",
       "       [0.925     , 0.075     ],\n",
       "       [0.6875    , 0.3125    ],\n",
       "       [0.6875    , 0.3125    ],\n",
       "       [0.6875    , 0.3125    ],\n",
       "       [0.01470588, 0.98529412],\n",
       "       [0.88648649, 0.11351351],\n",
       "       [0.6875    , 0.3125    ],\n",
       "       [0.88648649, 0.11351351],\n",
       "       [0.6875    , 0.3125    ],\n",
       "       [0.875     , 0.125     ],\n",
       "       [0.88648649, 0.11351351],\n",
       "       [0.88648649, 0.11351351],\n",
       "       [0.88648649, 0.11351351],\n",
       "       [0.46428571, 0.53571429],\n",
       "       [0.11764706, 0.88235294],\n",
       "       [0.6875    , 0.3125    ],\n",
       "       [0.46428571, 0.53571429],\n",
       "       [0.44444444, 0.55555556],\n",
       "       [0.11764706, 0.88235294],\n",
       "       [0.88648649, 0.11351351],\n",
       "       [1.        , 0.        ],\n",
       "       [0.01470588, 0.98529412],\n",
       "       [0.01470588, 0.98529412],\n",
       "       [0.6875    , 0.3125    ],\n",
       "       [0.6875    , 0.3125    ],\n",
       "       [0.88648649, 0.11351351],\n",
       "       [0.88648649, 0.11351351],\n",
       "       [1.        , 0.        ],\n",
       "       [0.6875    , 0.3125    ],\n",
       "       [0.6875    , 0.3125    ],\n",
       "       [1.        , 0.        ],\n",
       "       [0.88648649, 0.11351351],\n",
       "       [0.88648649, 0.11351351],\n",
       "       [0.88648649, 0.11351351],\n",
       "       [0.01470588, 0.98529412],\n",
       "       [0.88648649, 0.11351351],\n",
       "       [0.925     , 0.075     ],\n",
       "       [0.01470588, 0.98529412],\n",
       "       [0.01470588, 0.98529412],\n",
       "       [0.7       , 0.3       ],\n",
       "       [0.15      , 0.85      ],\n",
       "       [0.        , 1.        ],\n",
       "       [0.6875    , 0.3125    ],\n",
       "       [0.88648649, 0.11351351],\n",
       "       [0.38888889, 0.61111111],\n",
       "       [0.11764706, 0.88235294],\n",
       "       [0.875     , 0.125     ],\n",
       "       [0.88648649, 0.11351351],\n",
       "       [0.15      , 0.85      ],\n",
       "       [0.88648649, 0.11351351],\n",
       "       [0.6875    , 0.3125    ],\n",
       "       [0.6875    , 0.3125    ],\n",
       "       [0.88648649, 0.11351351],\n",
       "       [0.925     , 0.075     ],\n",
       "       [0.88648649, 0.11351351],\n",
       "       [0.88648649, 0.11351351],\n",
       "       [0.46428571, 0.53571429],\n",
       "       [0.7       , 0.3       ],\n",
       "       [0.15      , 0.85      ],\n",
       "       [0.875     , 0.125     ],\n",
       "       [0.88648649, 0.11351351],\n",
       "       [0.17857143, 0.82142857],\n",
       "       [0.925     , 0.075     ],\n",
       "       [0.01470588, 0.98529412],\n",
       "       [0.44444444, 0.55555556],\n",
       "       [0.46428571, 0.53571429],\n",
       "       [0.6875    , 0.3125    ],\n",
       "       [0.15      , 0.85      ],\n",
       "       [0.46428571, 0.53571429],\n",
       "       [0.01470588, 0.98529412],\n",
       "       [0.925     , 0.075     ],\n",
       "       [0.11764706, 0.88235294],\n",
       "       [0.88648649, 0.11351351],\n",
       "       [0.88648649, 0.11351351],\n",
       "       [0.88648649, 0.11351351],\n",
       "       [0.6875    , 0.3125    ],\n",
       "       [1.        , 0.        ],\n",
       "       [0.6875    , 0.3125    ],\n",
       "       [0.88648649, 0.11351351],\n",
       "       [0.88648649, 0.11351351],\n",
       "       [0.88648649, 0.11351351],\n",
       "       [0.925     , 0.075     ],\n",
       "       [0.17857143, 0.82142857],\n",
       "       [0.88648649, 0.11351351],\n",
       "       [0.88648649, 0.11351351],\n",
       "       [0.46428571, 0.53571429],\n",
       "       [0.6875    , 0.3125    ],\n",
       "       [0.88648649, 0.11351351],\n",
       "       [0.88648649, 0.11351351],\n",
       "       [0.7       , 0.3       ],\n",
       "       [0.925     , 0.075     ],\n",
       "       [0.88648649, 0.11351351],\n",
       "       [0.88648649, 0.11351351],\n",
       "       [0.01470588, 0.98529412],\n",
       "       [0.88648649, 0.11351351],\n",
       "       [0.17857143, 0.82142857],\n",
       "       [0.01470588, 0.98529412],\n",
       "       [0.46428571, 0.53571429],\n",
       "       [0.88648649, 0.11351351],\n",
       "       [0.01470588, 0.98529412],\n",
       "       [0.11764706, 0.88235294],\n",
       "       [0.88648649, 0.11351351],\n",
       "       [0.6875    , 0.3125    ],\n",
       "       [0.7       , 0.3       ],\n",
       "       [0.7       , 0.3       ],\n",
       "       [0.88648649, 0.11351351],\n",
       "       [0.15      , 0.85      ],\n",
       "       [0.88648649, 0.11351351],\n",
       "       [0.7       , 0.3       ],\n",
       "       [0.925     , 0.075     ],\n",
       "       [0.17857143, 0.82142857],\n",
       "       [0.17857143, 0.82142857],\n",
       "       [0.88648649, 0.11351351],\n",
       "       [0.88648649, 0.11351351],\n",
       "       [0.11764706, 0.88235294],\n",
       "       [0.7       , 0.3       ],\n",
       "       [0.88648649, 0.11351351],\n",
       "       [0.88648649, 0.11351351],\n",
       "       [0.925     , 0.075     ],\n",
       "       [0.88648649, 0.11351351],\n",
       "       [0.88648649, 0.11351351],\n",
       "       [0.88648649, 0.11351351],\n",
       "       [0.925     , 0.075     ],\n",
       "       [0.01470588, 0.98529412],\n",
       "       [0.88648649, 0.11351351],\n",
       "       [0.88648649, 0.11351351],\n",
       "       [0.17857143, 0.82142857],\n",
       "       [0.88648649, 0.11351351],\n",
       "       [0.01470588, 0.98529412],\n",
       "       [0.88648649, 0.11351351],\n",
       "       [0.88648649, 0.11351351],\n",
       "       [0.17857143, 0.82142857],\n",
       "       [0.88648649, 0.11351351],\n",
       "       [0.88648649, 0.11351351],\n",
       "       [0.88648649, 0.11351351],\n",
       "       [0.88648649, 0.11351351],\n",
       "       [0.6875    , 0.3125    ],\n",
       "       [0.88648649, 0.11351351],\n",
       "       [0.17857143, 0.82142857],\n",
       "       [0.88648649, 0.11351351],\n",
       "       [0.88648649, 0.11351351],\n",
       "       [0.01470588, 0.98529412],\n",
       "       [0.46428571, 0.53571429],\n",
       "       [0.6875    , 0.3125    ],\n",
       "       [0.17857143, 0.82142857],\n",
       "       [0.17857143, 0.82142857],\n",
       "       [0.88648649, 0.11351351],\n",
       "       [0.6875    , 0.3125    ],\n",
       "       [0.88648649, 0.11351351],\n",
       "       [0.46428571, 0.53571429],\n",
       "       [0.6875    , 0.3125    ],\n",
       "       [0.925     , 0.075     ],\n",
       "       [0.88648649, 0.11351351],\n",
       "       [0.17857143, 0.82142857],\n",
       "       [0.925     , 0.075     ],\n",
       "       [0.17857143, 0.82142857],\n",
       "       [0.88648649, 0.11351351],\n",
       "       [0.88648649, 0.11351351],\n",
       "       [0.7       , 0.3       ],\n",
       "       [0.44444444, 0.55555556],\n",
       "       [0.17857143, 0.82142857],\n",
       "       [0.925     , 0.075     ],\n",
       "       [0.88648649, 0.11351351],\n",
       "       [0.6875    , 0.3125    ],\n",
       "       [0.38888889, 0.61111111],\n",
       "       [0.17857143, 0.82142857],\n",
       "       [1.        , 0.        ],\n",
       "       [0.88648649, 0.11351351],\n",
       "       [0.44444444, 0.55555556],\n",
       "       [0.38888889, 0.61111111],\n",
       "       [0.875     , 0.125     ],\n",
       "       [0.01470588, 0.98529412],\n",
       "       [0.88648649, 0.11351351],\n",
       "       [0.01470588, 0.98529412],\n",
       "       [0.46428571, 0.53571429],\n",
       "       [0.88648649, 0.11351351],\n",
       "       [0.46428571, 0.53571429],\n",
       "       [0.88648649, 0.11351351],\n",
       "       [0.88648649, 0.11351351],\n",
       "       [0.15      , 0.85      ],\n",
       "       [0.88648649, 0.11351351],\n",
       "       [0.88648649, 0.11351351],\n",
       "       [1.        , 0.        ],\n",
       "       [0.01470588, 0.98529412],\n",
       "       [0.46428571, 0.53571429],\n",
       "       [0.46428571, 0.53571429],\n",
       "       [0.6875    , 0.3125    ],\n",
       "       [0.88648649, 0.11351351],\n",
       "       [0.01470588, 0.98529412],\n",
       "       [0.01470588, 0.98529412],\n",
       "       [0.15      , 0.85      ],\n",
       "       [0.88648649, 0.11351351],\n",
       "       [0.88648649, 0.11351351],\n",
       "       [0.11764706, 0.88235294],\n",
       "       [0.44444444, 0.55555556],\n",
       "       [1.        , 0.        ],\n",
       "       [0.01470588, 0.98529412],\n",
       "       [0.88648649, 0.11351351],\n",
       "       [0.17857143, 0.82142857],\n",
       "       [0.88648649, 0.11351351],\n",
       "       [0.88648649, 0.11351351],\n",
       "       [0.46428571, 0.53571429],\n",
       "       [0.88648649, 0.11351351],\n",
       "       [0.88648649, 0.11351351],\n",
       "       [0.6875    , 0.3125    ],\n",
       "       [0.88648649, 0.11351351],\n",
       "       [0.875     , 0.125     ],\n",
       "       [0.46428571, 0.53571429],\n",
       "       [0.17857143, 0.82142857],\n",
       "       [0.925     , 0.075     ],\n",
       "       [0.38888889, 0.61111111],\n",
       "       [0.925     , 0.075     ],\n",
       "       [0.88648649, 0.11351351],\n",
       "       [0.88648649, 0.11351351],\n",
       "       [1.        , 0.        ],\n",
       "       [0.6875    , 0.3125    ],\n",
       "       [0.88648649, 0.11351351],\n",
       "       [0.88648649, 0.11351351],\n",
       "       [0.46428571, 0.53571429],\n",
       "       [0.6875    , 0.3125    ],\n",
       "       [0.6875    , 0.3125    ],\n",
       "       [0.11764706, 0.88235294],\n",
       "       [0.38888889, 0.61111111],\n",
       "       [0.6875    , 0.3125    ],\n",
       "       [0.17857143, 0.82142857],\n",
       "       [0.88648649, 0.11351351],\n",
       "       [0.6875    , 0.3125    ],\n",
       "       [0.88648649, 0.11351351],\n",
       "       [0.88648649, 0.11351351],\n",
       "       [0.88648649, 0.11351351],\n",
       "       [0.17857143, 0.82142857],\n",
       "       [0.46428571, 0.53571429],\n",
       "       [0.88648649, 0.11351351],\n",
       "       [0.17857143, 0.82142857],\n",
       "       [0.6875    , 0.3125    ],\n",
       "       [0.11764706, 0.88235294],\n",
       "       [0.925     , 0.075     ],\n",
       "       [0.88648649, 0.11351351],\n",
       "       [0.88648649, 0.11351351],\n",
       "       [0.875     , 0.125     ],\n",
       "       [0.925     , 0.075     ],\n",
       "       [0.6875    , 0.3125    ],\n",
       "       [0.88648649, 0.11351351],\n",
       "       [1.        , 0.        ],\n",
       "       [0.17857143, 0.82142857],\n",
       "       [0.01470588, 0.98529412],\n",
       "       [0.15      , 0.85      ],\n",
       "       [0.88648649, 0.11351351],\n",
       "       [1.        , 0.        ],\n",
       "       [0.6875    , 0.3125    ],\n",
       "       [0.6875    , 0.3125    ],\n",
       "       [1.        , 0.        ],\n",
       "       [0.01470588, 0.98529412],\n",
       "       [0.88648649, 0.11351351],\n",
       "       [0.88648649, 0.11351351],\n",
       "       [0.38888889, 0.61111111],\n",
       "       [0.6875    , 0.3125    ],\n",
       "       [0.17857143, 0.82142857],\n",
       "       [0.6875    , 0.3125    ],\n",
       "       [0.875     , 0.125     ],\n",
       "       [0.15      , 0.85      ],\n",
       "       [0.88648649, 0.11351351],\n",
       "       [1.        , 0.        ],\n",
       "       [0.875     , 0.125     ],\n",
       "       [0.875     , 0.125     ],\n",
       "       [0.88648649, 0.11351351],\n",
       "       [0.88648649, 0.11351351],\n",
       "       [0.6875    , 0.3125    ],\n",
       "       [0.6875    , 0.3125    ],\n",
       "       [0.88648649, 0.11351351],\n",
       "       [0.88648649, 0.11351351],\n",
       "       [0.88648649, 0.11351351],\n",
       "       [0.88648649, 0.11351351],\n",
       "       [0.875     , 0.125     ],\n",
       "       [0.01470588, 0.98529412],\n",
       "       [0.15      , 0.85      ],\n",
       "       [0.6875    , 0.3125    ],\n",
       "       [0.88648649, 0.11351351],\n",
       "       [0.6875    , 0.3125    ],\n",
       "       [1.        , 0.        ],\n",
       "       [0.88648649, 0.11351351],\n",
       "       [0.88648649, 0.11351351],\n",
       "       [1.        , 0.        ],\n",
       "       [0.925     , 0.075     ],\n",
       "       [0.88648649, 0.11351351],\n",
       "       [0.88648649, 0.11351351],\n",
       "       [0.925     , 0.075     ],\n",
       "       [1.        , 0.        ],\n",
       "       [0.88648649, 0.11351351],\n",
       "       [0.6875    , 0.3125    ],\n",
       "       [0.11764706, 0.88235294],\n",
       "       [0.925     , 0.075     ],\n",
       "       [0.88648649, 0.11351351],\n",
       "       [0.6875    , 0.3125    ],\n",
       "       [0.88648649, 0.11351351],\n",
       "       [0.88648649, 0.11351351],\n",
       "       [0.6875    , 0.3125    ],\n",
       "       [0.6875    , 0.3125    ],\n",
       "       [0.15      , 0.85      ],\n",
       "       [0.88648649, 0.11351351],\n",
       "       [0.88648649, 0.11351351],\n",
       "       [0.6875    , 0.3125    ],\n",
       "       [0.11764706, 0.88235294],\n",
       "       [0.15      , 0.85      ],\n",
       "       [1.        , 0.        ],\n",
       "       [0.925     , 0.075     ],\n",
       "       [0.15      , 0.85      ],\n",
       "       [1.        , 0.        ],\n",
       "       [0.01470588, 0.98529412]])"
      ]
     },
     "execution_count": 6,
     "metadata": {},
     "output_type": "execute_result"
    }
   ],
   "source": [
    "# test model (output probability estimate)\n",
    "# https://scikit-learn.org/stable/modules/generated/sklearn.tree.DecisionTreeClassifier.html#sklearn.tree.DecisionTreeClassifier.predict_proba\n",
    "pred_prob = model.predict_proba(X_test)\n",
    "\n",
    "# show the probability of belonging to class 0 and class 1\n",
    "pred_prob"
   ]
  },
  {
   "cell_type": "code",
   "execution_count": 7,
   "metadata": {},
   "outputs": [
    {
     "data": {
      "text/plain": [
       "array([0, 1])"
      ]
     },
     "execution_count": 7,
     "metadata": {},
     "output_type": "execute_result"
    }
   ],
   "source": [
    "# check the order of classes\n",
    "model.classes_"
   ]
  },
  {
   "cell_type": "code",
   "execution_count": 8,
   "metadata": {},
   "outputs": [
    {
     "data": {
      "text/plain": [
       "array([0.11351351, 0.11351351, 0.61111111, 0.98529412, 0.82142857,\n",
       "       0.3125    , 0.98529412, 0.98529412, 0.3125    , 0.82142857,\n",
       "       0.11351351, 0.85      , 0.11351351, 0.98529412, 0.98529412,\n",
       "       0.53571429, 0.11351351, 0.11351351, 0.        , 0.61111111,\n",
       "       0.11351351, 0.98529412, 0.11351351, 0.3125    , 0.53571429,\n",
       "       0.98529412, 0.55555556, 0.53571429, 0.98529412, 0.125     ,\n",
       "       0.        , 0.85      , 0.11351351, 0.3125    , 0.11351351,\n",
       "       0.3125    , 0.075     , 0.11351351, 0.11351351, 0.075     ,\n",
       "       0.3125    , 0.11351351, 0.11351351, 0.11351351, 0.98529412,\n",
       "       0.11351351, 0.11351351, 0.98529412, 0.075     , 0.3125    ,\n",
       "       0.3125    , 0.3125    , 0.98529412, 0.11351351, 0.3125    ,\n",
       "       0.11351351, 0.3125    , 0.125     , 0.11351351, 0.11351351,\n",
       "       0.11351351, 0.53571429, 0.88235294, 0.3125    , 0.53571429,\n",
       "       0.55555556, 0.88235294, 0.11351351, 0.        , 0.98529412,\n",
       "       0.98529412, 0.3125    , 0.3125    , 0.11351351, 0.11351351,\n",
       "       0.        , 0.3125    , 0.3125    , 0.        , 0.11351351,\n",
       "       0.11351351, 0.11351351, 0.98529412, 0.11351351, 0.075     ,\n",
       "       0.98529412, 0.98529412, 0.3       , 0.85      , 1.        ,\n",
       "       0.3125    , 0.11351351, 0.61111111, 0.88235294, 0.125     ,\n",
       "       0.11351351, 0.85      , 0.11351351, 0.3125    , 0.3125    ,\n",
       "       0.11351351, 0.075     , 0.11351351, 0.11351351, 0.53571429,\n",
       "       0.3       , 0.85      , 0.125     , 0.11351351, 0.82142857,\n",
       "       0.075     , 0.98529412, 0.55555556, 0.53571429, 0.3125    ,\n",
       "       0.85      , 0.53571429, 0.98529412, 0.075     , 0.88235294,\n",
       "       0.11351351, 0.11351351, 0.11351351, 0.3125    , 0.        ,\n",
       "       0.3125    , 0.11351351, 0.11351351, 0.11351351, 0.075     ,\n",
       "       0.82142857, 0.11351351, 0.11351351, 0.53571429, 0.3125    ,\n",
       "       0.11351351, 0.11351351, 0.3       , 0.075     , 0.11351351,\n",
       "       0.11351351, 0.98529412, 0.11351351, 0.82142857, 0.98529412,\n",
       "       0.53571429, 0.11351351, 0.98529412, 0.88235294, 0.11351351,\n",
       "       0.3125    , 0.3       , 0.3       , 0.11351351, 0.85      ,\n",
       "       0.11351351, 0.3       , 0.075     , 0.82142857, 0.82142857,\n",
       "       0.11351351, 0.11351351, 0.88235294, 0.3       , 0.11351351,\n",
       "       0.11351351, 0.075     , 0.11351351, 0.11351351, 0.11351351,\n",
       "       0.075     , 0.98529412, 0.11351351, 0.11351351, 0.82142857,\n",
       "       0.11351351, 0.98529412, 0.11351351, 0.11351351, 0.82142857,\n",
       "       0.11351351, 0.11351351, 0.11351351, 0.11351351, 0.3125    ,\n",
       "       0.11351351, 0.82142857, 0.11351351, 0.11351351, 0.98529412,\n",
       "       0.53571429, 0.3125    , 0.82142857, 0.82142857, 0.11351351,\n",
       "       0.3125    , 0.11351351, 0.53571429, 0.3125    , 0.075     ,\n",
       "       0.11351351, 0.82142857, 0.075     , 0.82142857, 0.11351351,\n",
       "       0.11351351, 0.3       , 0.55555556, 0.82142857, 0.075     ,\n",
       "       0.11351351, 0.3125    , 0.61111111, 0.82142857, 0.        ,\n",
       "       0.11351351, 0.55555556, 0.61111111, 0.125     , 0.98529412,\n",
       "       0.11351351, 0.98529412, 0.53571429, 0.11351351, 0.53571429,\n",
       "       0.11351351, 0.11351351, 0.85      , 0.11351351, 0.11351351,\n",
       "       0.        , 0.98529412, 0.53571429, 0.53571429, 0.3125    ,\n",
       "       0.11351351, 0.98529412, 0.98529412, 0.85      , 0.11351351,\n",
       "       0.11351351, 0.88235294, 0.55555556, 0.        , 0.98529412,\n",
       "       0.11351351, 0.82142857, 0.11351351, 0.11351351, 0.53571429,\n",
       "       0.11351351, 0.11351351, 0.3125    , 0.11351351, 0.125     ,\n",
       "       0.53571429, 0.82142857, 0.075     , 0.61111111, 0.075     ,\n",
       "       0.11351351, 0.11351351, 0.        , 0.3125    , 0.11351351,\n",
       "       0.11351351, 0.53571429, 0.3125    , 0.3125    , 0.88235294,\n",
       "       0.61111111, 0.3125    , 0.82142857, 0.11351351, 0.3125    ,\n",
       "       0.11351351, 0.11351351, 0.11351351, 0.82142857, 0.53571429,\n",
       "       0.11351351, 0.82142857, 0.3125    , 0.88235294, 0.075     ,\n",
       "       0.11351351, 0.11351351, 0.125     , 0.075     , 0.3125    ,\n",
       "       0.11351351, 0.        , 0.82142857, 0.98529412, 0.85      ,\n",
       "       0.11351351, 0.        , 0.3125    , 0.3125    , 0.        ,\n",
       "       0.98529412, 0.11351351, 0.11351351, 0.61111111, 0.3125    ,\n",
       "       0.82142857, 0.3125    , 0.125     , 0.85      , 0.11351351,\n",
       "       0.        , 0.125     , 0.125     , 0.11351351, 0.11351351,\n",
       "       0.3125    , 0.3125    , 0.11351351, 0.11351351, 0.11351351,\n",
       "       0.11351351, 0.125     , 0.98529412, 0.85      , 0.3125    ,\n",
       "       0.11351351, 0.3125    , 0.        , 0.11351351, 0.11351351,\n",
       "       0.        , 0.075     , 0.11351351, 0.11351351, 0.075     ,\n",
       "       0.        , 0.11351351, 0.3125    , 0.88235294, 0.075     ,\n",
       "       0.11351351, 0.3125    , 0.11351351, 0.11351351, 0.3125    ,\n",
       "       0.3125    , 0.85      , 0.11351351, 0.11351351, 0.3125    ,\n",
       "       0.88235294, 0.85      , 0.        , 0.075     , 0.85      ,\n",
       "       0.        , 0.98529412])"
      ]
     },
     "execution_count": 8,
     "metadata": {},
     "output_type": "execute_result"
    }
   ],
   "source": [
    "# display the probability estimate for class 1\n",
    "\n",
    "pred_prob[:,1]"
   ]
  },
  {
   "cell_type": "code",
   "execution_count": 9,
   "metadata": {},
   "outputs": [],
   "source": [
    "# import libararies for evaluation measures\n",
    "from sklearn.metrics import accuracy_score\n",
    "from sklearn.metrics import classification_report\n",
    "from sklearn.metrics import confusion_matrix\n",
    "from sklearn.metrics import roc_curve\n",
    "from sklearn.metrics import auc"
   ]
  },
  {
   "cell_type": "code",
   "execution_count": 10,
   "metadata": {},
   "outputs": [
    {
     "name": "stdout",
     "output_type": "stream",
     "text": [
      "Accuracy: 0.7871148459383753\n"
     ]
    }
   ],
   "source": [
    "# print the accurary rate\n",
    "# https://scikit-learn.org/stable/modules/generated/sklearn.metrics.accuracy_score.html\n",
    "print(\"Accuracy:\",accuracy_score(y_test, pred_val, normalize=True, sample_weight=None))"
   ]
  },
  {
   "cell_type": "code",
   "execution_count": 11,
   "metadata": {},
   "outputs": [
    {
     "name": "stdout",
     "output_type": "stream",
     "text": [
      "Confusion Matrix: [[192  29]\n",
      " [ 47  89]]\n"
     ]
    }
   ],
   "source": [
    "# print the confusion matrix\n",
    "# https://scikit-learn.org/stable/modules/generated/sklearn.metrics.confusion_matrix.html\n",
    "print(\"Confusion Matrix:\", confusion_matrix(y_test, pred_val))"
   ]
  },
  {
   "cell_type": "code",
   "execution_count": 12,
   "metadata": {},
   "outputs": [
    {
     "name": "stdout",
     "output_type": "stream",
     "text": [
      "Classification Report:               precision    recall  f1-score   support\n",
      "\n",
      "           0       0.80      0.87      0.83       221\n",
      "           1       0.75      0.65      0.70       136\n",
      "\n",
      "    accuracy                           0.79       357\n",
      "   macro avg       0.78      0.76      0.77       357\n",
      "weighted avg       0.78      0.79      0.78       357\n",
      "\n"
     ]
    }
   ],
   "source": [
    "# print the classification report with precision, recall\n",
    "# https://scikit-learn.org/stable/modules/generated/sklearn.metrics.classification_report.html\n",
    "print(\"Classification Report:\",classification_report(y_test, pred_val))"
   ]
  },
  {
   "cell_type": "code",
   "execution_count": 13,
   "metadata": {},
   "outputs": [],
   "source": [
    "# y_test is the true label, pred_prob[:,1] measures the predicted probability of belonging to class 1 (which is defined as positive class)\n",
    "# https://scikit-learn.org/stable/modules/generated/sklearn.metrics.roc_curve.html\n",
    "fpr, tpr, thresholds = roc_curve(y_test, pred_prob[:,1], pos_label=1)"
   ]
  },
  {
   "cell_type": "code",
   "execution_count": 14,
   "metadata": {},
   "outputs": [
    {
     "data": {
      "text/plain": [
       "array([0.        , 0.00452489, 0.00904977, 0.00904977, 0.00904977,\n",
       "       0.04524887, 0.05882353, 0.08144796, 0.13122172, 0.2760181 ,\n",
       "       0.29411765, 0.33936652, 0.83710407, 0.9321267 , 1.        ])"
      ]
     },
     "execution_count": 14,
     "metadata": {},
     "output_type": "execute_result"
    }
   ],
   "source": [
    "fpr"
   ]
  },
  {
   "cell_type": "code",
   "execution_count": 15,
   "metadata": {},
   "outputs": [
    {
     "data": {
      "text/plain": [
       "array([0.        , 0.        , 0.24264706, 0.32352941, 0.43382353,\n",
       "       0.54411765, 0.58088235, 0.58823529, 0.65441176, 0.79411765,\n",
       "       0.82352941, 0.83088235, 0.95588235, 0.97058824, 1.        ])"
      ]
     },
     "execution_count": 15,
     "metadata": {},
     "output_type": "execute_result"
    }
   ],
   "source": [
    "tpr"
   ]
  },
  {
   "cell_type": "code",
   "execution_count": 16,
   "metadata": {},
   "outputs": [
    {
     "data": {
      "text/plain": [
       "array([2.        , 1.        , 0.98529412, 0.88235294, 0.85      ,\n",
       "       0.82142857, 0.61111111, 0.55555556, 0.53571429, 0.3125    ,\n",
       "       0.3       , 0.125     , 0.11351351, 0.075     , 0.        ])"
      ]
     },
     "execution_count": 16,
     "metadata": {},
     "output_type": "execute_result"
    }
   ],
   "source": [
    "thresholds"
   ]
  },
  {
   "cell_type": "code",
   "execution_count": 17,
   "metadata": {},
   "outputs": [
    {
     "data": {
      "text/plain": [
       "0.8300505722651051"
      ]
     },
     "execution_count": 17,
     "metadata": {},
     "output_type": "execute_result"
    }
   ],
   "source": [
    "# Aread under ROC curve\n",
    "roc_auc=auc(fpr,tpr)\n",
    "roc_auc"
   ]
  },
  {
   "cell_type": "code",
   "execution_count": 18,
   "metadata": {},
   "outputs": [
    {
     "data": {
      "image/png": "[encoded data removed]",
      "text/plain": [
       "<Figure size 432x288 with 1 Axes>"
      ]
     },
     "metadata": {
      "needs_background": "light"
     },
     "output_type": "display_data"
    }
   ],
   "source": [
    "import matplotlib.pyplot as plt\n",
    "%matplotlib inline\n",
    "\n",
    "plt.figure()\n",
    "lw = 2\n",
    "plt.plot(fpr, tpr, marker='o',color='darkorange',\n",
    "         lw=lw, label='ROC curve (area = %0.2f)' % roc_auc)\n",
    "plt.plot([0, 1], [0, 1], color='navy', lw=lw, linestyle='--')\n",
    "plt.xlim([-0.05, 1.0])\n",
    "plt.ylim([0.0, 1.05])\n",
    "plt.xlabel('False Positive Rate')\n",
    "plt.ylabel('True Positive Rate')\n",
    "plt.title('Receiver operating characteristic')\n",
    "plt.legend(loc=\"lower right\")\n",
    "plt.show()"
   ]
  },
  {
   "cell_type": "code",
   "execution_count": null,
   "metadata": {},
   "outputs": [],
   "source": []
  }
 ],
 "metadata": {
  "kernelspec": {
   "display_name": "Python 3",
   "language": "python",
   "name": "python3"
  },
  "language_info": {
   "codemirror_mode": {
    "name": "ipython",
    "version": 3
   },
   "file_extension": ".py",
   "mimetype": "text/x-python",
   "name": "python",
   "nbconvert_exporter": "python",
   "pygments_lexer": "ipython3",
   "version": "3.8.3"
  }
 },
 "nbformat": 4,
 "nbformat_minor": 2
}
